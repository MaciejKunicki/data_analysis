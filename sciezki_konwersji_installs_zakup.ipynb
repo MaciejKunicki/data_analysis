{
 "cells": [
  {
   "cell_type": "code",
   "execution_count": 1,
   "metadata": {},
   "outputs": [],
   "source": [
    "import pandas as pd\n",
    "import numpy as np\n",
    "from google.oauth2 import service_account\n",
    "from datetime import date\n",
    "import matplotlib.pyplot as plt\n",
    "import seaborn as sns\n",
    "from sklearn import preprocessing\n",
    "from datetime import datetime\n",
    "\n",
    "\n",
    "pd.set_option('display.max_columns', None)\n",
    "\n",
    "# authorization\n",
    "SCOPES = ['https://www.googleapis.com/auth/bigquery','https://www.googleapis.com/auth/spreadsheets']\n",
    "SERVICE_ACCOUNT_FILE = '/Users/maciej.kunicki/Downloads/elevated-honor-235814-399433d48ae7.json'\n",
    "credentials = service_account.Credentials.from_service_account_file(SERVICE_ACCOUNT_FILE, scopes=SCOPES)\n",
    "eobuwie_project_id = 'elevated-honor-235814'"
   ]
  },
  {
   "cell_type": "code",
   "execution_count": 2,
   "metadata": {},
   "outputs": [],
   "source": [
    "query = \"select conversion_id, conversion_name, conversion_platform, conversion_media_source, touchpoint_media_source, conversion_country, touchpoint_type from `elevated-honor-235814.mkunicki.Conversion path appsflyer 09-22 - 15-11-22`\"\n",
    "\n",
    "df = pd.read_gbq(query, project_id=eobuwie_project_id, dialect='standard',credentials=credentials)"
   ]
  },
  {
   "cell_type": "markdown",
   "metadata": {},
   "source": [
    "Jaki Top-20 ścieżek konwersji użytkownika?"
   ]
  },
  {
   "cell_type": "code",
   "execution_count": 3,
   "metadata": {},
   "outputs": [
    {
     "name": "stderr",
     "output_type": "stream",
     "text": [
      "C:\\Users\\maciej.kunicki\\AppData\\Local\\Temp\\ipykernel_16276\\987255438.py:2: SettingWithCopyWarning: \n",
      "A value is trying to be set on a copy of a slice from a DataFrame.\n",
      "Try using .loc[row_indexer,col_indexer] = value instead\n",
      "\n",
      "See the caveats in the documentation: https://pandas.pydata.org/pandas-docs/stable/user_guide/indexing.html#returning-a-view-versus-a-copy\n",
      "  purchases['touchpoint_media_source'] = purchases['touchpoint_media_source'].astype(str)\n"
     ]
    }
   ],
   "source": [
    "purchases = df[df.conversion_name == 'af_purchase']\n",
    "purchases['touchpoint_media_source'] = purchases['touchpoint_media_source'].astype(str)\n",
    "purchases = purchases.groupby(['conversion_id','conversion_media_source'])['touchpoint_media_source'].apply(', '.join).reset_index()\n",
    "purchases['path'] = purchases['touchpoint_media_source'] + ', ' + purchases['conversion_media_source']"
   ]
  },
  {
   "cell_type": "code",
   "execution_count": 4,
   "metadata": {},
   "outputs": [
    {
     "data": {
      "text/plain": [
       "google, google, google, google, google, google, google, google, google                                                                                                                                                                                                                                                                                                                                                                                                                                                                                                                                                                                                                                                                                                                                                                                                                                                                                                                                                                                                                                                                                                                                                                                                                                                                                                                                                                                                                                                                                                                               12954\n",
       "modivo, modivo, modivo, modivo, modivo, modivo, modivo, modivo, modivo                                                                                                                                                                                                                                                                                                                                                                                                                                                                                                                                                                                                                                                                                                                                                                                                                                                                                                                                                                                                                                                                                                                                                                                                                                                                                                                                                                                                                                                                                                                               10000\n",
       "googleadwords_int, googleadwords_int, googleadwords_int, googleadwords_int, googleadwords_int, googleadwords_int, googleadwords_int, googleadwords_int, googleadwords_int                                                                                                                                                                                                                                                                                                                                                                                                                                                                                                                                                                                                                                                                                                                                                                                                                                                                                                                                                                                                                                                                                                                                                                                                                                                                                                                                                                                                                             6045\n",
       "googleadwords_int, googleadwords_int, googleadwords_int, googleadwords_int, googleadwords_int, googleadwords_int, googleadwords_int, googleadwords_int, googleadwords_int, googleadwords_int, googleadwords_int, googleadwords_int, googleadwords_int, googleadwords_int, googleadwords_int, googleadwords_int, googleadwords_int, googleadwords_int, googleadwords_int, googleadwords_int, googleadwords_int, googleadwords_int, googleadwords_int, googleadwords_int, googleadwords_int, googleadwords_int, googleadwords_int, googleadwords_int, googleadwords_int, googleadwords_int, googleadwords_int, googleadwords_int, googleadwords_int, googleadwords_int, googleadwords_int, googleadwords_int, googleadwords_int, googleadwords_int, googleadwords_int, googleadwords_int, googleadwords_int, googleadwords_int, googleadwords_int, googleadwords_int, googleadwords_int, googleadwords_int, googleadwords_int, googleadwords_int, googleadwords_int, googleadwords_int, googleadwords_int, googleadwords_int, googleadwords_int, googleadwords_int, googleadwords_int, googleadwords_int, googleadwords_int, googleadwords_int, googleadwords_int, googleadwords_int, googleadwords_int, googleadwords_int, googleadwords_int, googleadwords_int, googleadwords_int, googleadwords_int, googleadwords_int, googleadwords_int, googleadwords_int, googleadwords_int, googleadwords_int, googleadwords_int, googleadwords_int, googleadwords_int, googleadwords_int, googleadwords_int, googleadwords_int, googleadwords_int, googleadwords_int, googleadwords_int, googleadwords_int     3894\n",
       "googleadwords_int, googleadwords_int, googleadwords_int, googleadwords_int, googleadwords_int, googleadwords_int, googleadwords_int, googleadwords_int, googleadwords_int, googleadwords_int, googleadwords_int, googleadwords_int, googleadwords_int, googleadwords_int, googleadwords_int, googleadwords_int, googleadwords_int                                                                                                                                                                                                                                                                                                                                                                                                                                                                                                                                                                                                                                                                                                                                                                                                                                                                                                                                                                                                                                                                                                                                                                                                                                                                     3881\n",
       "restricted, restricted, restricted, restricted, restricted, restricted, restricted, restricted, restricted                                                                                                                                                                                                                                                                                                                                                                                                                                                                                                                                                                                                                                                                                                                                                                                                                                                                                                                                                                                                                                                                                                                                                                                                                                                                                                                                                                                                                                                                                            3714\n",
       "google, google, google, google, google, google, google, google, google, google, google, google, google, google, google, google, google                                                                                                                                                                                                                                                                                                                                                                                                                                                                                                                                                                                                                                                                                                                                                                                                                                                                                                                                                                                                                                                                                                                                                                                                                                                                                                                                                                                                                                                                3613\n",
       "fb, fb, fb, fb, fb, fb, fb, fb, fb                                                                                                                                                                                                                                                                                                                                                                                                                                                                                                                                                                                                                                                                                                                                                                                                                                                                                                                                                                                                                                                                                                                                                                                                                                                                                                                                                                                                                                                                                                                                                                    3100\n",
       "synerise, synerise, synerise, synerise, synerise, synerise, synerise, synerise, synerise                                                                                                                                                                                                                                                                                                                                                                                                                                                                                                                                                                                                                                                                                                                                                                                                                                                                                                                                                                                                                                                                                                                                                                                                                                                                                                                                                                                                                                                                                                              2989\n",
       "googleadwords_int, googleadwords_int, googleadwords_int, googleadwords_int, googleadwords_int, googleadwords_int, googleadwords_int, googleadwords_int, organic                                                                                                                                                                                                                                                                                                                                                                                                                                                                                                                                                                                                                                                                                                                                                                                                                                                                                                                                                                                                                                                                                                                                                                                                                                                                                                                                                                                                                                       2767\n",
       "googleadwords_int, googleadwords_int, googleadwords_int, googleadwords_int, googleadwords_int, googleadwords_int, googleadwords_int, googleadwords_int, googleadwords_int, googleadwords_int, googleadwords_int, googleadwords_int, googleadwords_int, googleadwords_int, googleadwords_int, googleadwords_int, googleadwords_int, googleadwords_int, googleadwords_int, googleadwords_int, googleadwords_int, googleadwords_int, googleadwords_int, googleadwords_int, googleadwords_int                                                                                                                                                                                                                                                                                                                                                                                                                                                                                                                                                                                                                                                                                                                                                                                                                                                                                                                                                                                                                                                                                                             2717\n",
       "restricted, restricted, restricted, restricted, restricted, restricted, restricted, restricted, restricted, restricted, restricted, restricted, restricted, restricted, restricted, restricted, restricted                                                                                                                                                                                                                                                                                                                                                                                                                                                                                                                                                                                                                                                                                                                                                                                                                                                                                                                                                                                                                                                                                                                                                                                                                                                                                                                                                                                            2311\n",
       "googleadwords_int, googleadwords_int, googleadwords_int, googleadwords_int, googleadwords_int, googleadwords_int, googleadwords_int, googleadwords_int, googleadwords_int, googleadwords_int, googleadwords_int, googleadwords_int, googleadwords_int, googleadwords_int, googleadwords_int, googleadwords_int, googleadwords_int, googleadwords_int, googleadwords_int, googleadwords_int, googleadwords_int, googleadwords_int, googleadwords_int, googleadwords_int, googleadwords_int, googleadwords_int, googleadwords_int, googleadwords_int, googleadwords_int, googleadwords_int, googleadwords_int, googleadwords_int, googleadwords_int                                                                                                                                                                                                                                                                                                                                                                                                                                                                                                                                                                                                                                                                                                                                                                                                                                                                                                                                                     1791\n",
       "google, google, google, google, google, google, google, google, google, google, google, google, google, google, google, google, google, google, google, google, google, google, google, google, google                                                                                                                                                                                                                                                                                                                                                                                                                                                                                                                                                                                                                                                                                                                                                                                                                                                                                                                                                                                                                                                                                                                                                                                                                                                                                                                                                                                                1718\n",
       "ig, ig, ig, ig, ig, ig, ig, ig, ig                                                                                                                                                                                                                                                                                                                                                                                                                                                                                                                                                                                                                                                                                                                                                                                                                                                                                                                                                                                                                                                                                                                                                                                                                                                                                                                                                                                                                                                                                                                                                                    1397\n",
       "facebook, facebook, facebook, facebook, facebook, facebook, facebook, facebook, facebook                                                                                                                                                                                                                                                                                                                                                                                                                                                                                                                                                                                                                                                                                                                                                                                                                                                                                                                                                                                                                                                                                                                                                                                                                                                                                                                                                                                                                                                                                                              1379\n",
       "googleadwords_int, googleadwords_int, googleadwords_int, googleadwords_int, googleadwords_int, googleadwords_int, googleadwords_int, googleadwords_int, googleadwords_int, googleadwords_int, googleadwords_int, googleadwords_int, googleadwords_int, googleadwords_int, googleadwords_int, googleadwords_int, googleadwords_int, googleadwords_int, googleadwords_int, googleadwords_int, googleadwords_int, googleadwords_int, googleadwords_int, googleadwords_int, googleadwords_int, googleadwords_int, googleadwords_int, googleadwords_int, googleadwords_int, googleadwords_int, googleadwords_int, googleadwords_int, googleadwords_int, googleadwords_int, googleadwords_int, googleadwords_int, googleadwords_int, googleadwords_int, googleadwords_int, googleadwords_int, googleadwords_int                                                                                                                                                                                                                                                                                                                                                                                                                                                                                                                                                                                                                                                                                                                                                                                             1376\n",
       "restricted, restricted, restricted, restricted, restricted, restricted, restricted, restricted, organic                                                                                                                                                                                                                                                                                                                                                                                                                                                                                                                                                                                                                                                                                                                                                                                                                                                                                                                                                                                                                                                                                                                                                                                                                                                                                                                                                                                                                                                                                               1357\n",
       "modivo, modivo, modivo, modivo, modivo, modivo, modivo, modivo, modivo, modivo, modivo, modivo, modivo, modivo, modivo, modivo, modivo                                                                                                                                                                                                                                                                                                                                                                                                                                                                                                                                                                                                                                                                                                                                                                                                                                                                                                                                                                                                                                                                                                                                                                                                                                                                                                                                                                                                                                                                1323\n",
       "restricted, restricted, restricted, restricted, restricted, restricted, restricted, restricted, restricted, restricted, restricted, restricted, restricted, restricted, restricted, restricted, restricted, restricted, restricted, restricted, restricted, restricted, restricted, restricted, restricted                                                                                                                                                                                                                                                                                                                                                                                                                                                                                                                                                                                                                                                                                                                                                                                                                                                                                                                                                                                                                                                                                                                                                                                                                                                                                            1222\n",
       "Name: path, dtype: int64"
      ]
     },
     "execution_count": 4,
     "metadata": {},
     "output_type": "execute_result"
    }
   ],
   "source": [
    "purchases['path'].value_counts().head(20)"
   ]
  },
  {
   "cell_type": "code",
   "execution_count": 5,
   "metadata": {},
   "outputs": [
    {
     "name": "stderr",
     "output_type": "stream",
     "text": [
      "C:\\Users\\maciej.kunicki\\AppData\\Local\\Temp\\ipykernel_16276\\869008501.py:2: SettingWithCopyWarning: \n",
      "A value is trying to be set on a copy of a slice from a DataFrame.\n",
      "Try using .loc[row_indexer,col_indexer] = value instead\n",
      "\n",
      "See the caveats in the documentation: https://pandas.pydata.org/pandas-docs/stable/user_guide/indexing.html#returning-a-view-versus-a-copy\n",
      "  only_clicks['touchpoint_media_source'] = only_clicks['touchpoint_media_source'].astype(str)\n"
     ]
    }
   ],
   "source": [
    "only_clicks = df[df.touchpoint_type == 'mobile_click']\n",
    "only_clicks['touchpoint_media_source'] = only_clicks['touchpoint_media_source'].astype(str)\n",
    "only_clicks = only_clicks.groupby(['conversion_id','conversion_media_source', 'conversion_country', 'conversion_platform'])['touchpoint_media_source'].apply(', '.join).reset_index()\n",
    "only_clicks['path'] = only_clicks['touchpoint_media_source'] + ', ' + only_clicks['conversion_media_source']"
   ]
  },
  {
   "cell_type": "code",
   "execution_count": 6,
   "metadata": {},
   "outputs": [
    {
     "data": {
      "text/plain": [
       "facebook, facebook, facebook, facebook, facebook, facebook, facebook, facebook, facebook                                                                                                                                                                                                                                             247572\n",
       "googleadwords_int, googleadwords_int, googleadwords_int, googleadwords_int, googleadwords_int, googleadwords_int, googleadwords_int, googleadwords_int, googleadwords_int                                                                                                                                                             62033\n",
       "modivo, modivo, modivo, modivo, modivo, modivo, modivo, modivo, modivo                                                                                                                                                                                                                                                                50484\n",
       "google, google, google, google, google, google, google, google, google                                                                                                                                                                                                                                                                38053\n",
       "restricted, restricted, restricted, restricted, restricted, restricted, restricted, restricted, restricted                                                                                                                                                                                                                            37031\n",
       "fb, fb, fb, fb, fb, fb, fb, fb, fb                                                                                                                                                                                                                                                                                                    11927\n",
       "facebook, facebook, facebook, facebook, facebook                                                                                                                                                                                                                                                                                       9115\n",
       "facebook, facebook, facebook, facebook                                                                                                                                                                                                                                                                                                 8982\n",
       "facebook, facebook, facebook, facebook, facebook, facebook                                                                                                                                                                                                                                                                             8635\n",
       "facebook, facebook, facebook, facebook, facebook, facebook, facebook                                                                                                                                                                                                                                                                   8464\n",
       "facebook, facebook, facebook                                                                                                                                                                                                                                                                                                           8317\n",
       "facebook, facebook, facebook, facebook, facebook, facebook, facebook, facebook                                                                                                                                                                                                                                                         8160\n",
       "restricted, restricted, restricted, restricted, restricted, restricted, restricted, restricted, restricted, restricted, restricted, restricted, restricted, restricted, restricted, restricted, restricted                                                                                                                             6244\n",
       "synerise, synerise, synerise, synerise, synerise, synerise, synerise, synerise, synerise                                                                                                                                                                                                                                               5197\n",
       "ig, ig, ig, ig, ig, ig, ig, ig, ig                                                                                                                                                                                                                                                                                                     5190\n",
       "facebook, facebook                                                                                                                                                                                                                                                                                                                     5079\n",
       "googleadwords_int, googleadwords_int, googleadwords_int, googleadwords_int, googleadwords_int, googleadwords_int, googleadwords_int, googleadwords_int, organic                                                                                                                                                                        4569\n",
       "googleadwords_int, googleadwords_int, googleadwords_int, googleadwords_int, googleadwords_int, googleadwords_int, googleadwords_int, googleadwords_int, googleadwords_int, googleadwords_int, googleadwords_int, googleadwords_int, googleadwords_int, googleadwords_int, googleadwords_int, googleadwords_int, googleadwords_int      4326\n",
       "criteonew_int, criteonew_int, criteonew_int, criteonew_int, criteonew_int, criteonew_int, criteonew_int, criteonew_int, criteonew_int                                                                                                                                                                                                  4253\n",
       "glami, glami, glami, glami, glami, glami, glami, glami, glami                                                                                                                                                                                                                                                                          4218\n",
       "Name: path, dtype: int64"
      ]
     },
     "execution_count": 6,
     "metadata": {},
     "output_type": "execute_result"
    }
   ],
   "source": [
    "only_clicks['path'].value_counts().head(20)"
   ]
  },
  {
   "cell_type": "code",
   "execution_count": 7,
   "metadata": {},
   "outputs": [
    {
     "data": {
      "text/plain": [
       "facebook, facebook, facebook, facebook, facebook, facebook, facebook, facebook, facebook                                                                                                                                                                                                                                             31.2%\n",
       "googleadwords_int, googleadwords_int, googleadwords_int, googleadwords_int, googleadwords_int, googleadwords_int, googleadwords_int, googleadwords_int, googleadwords_int                                                                                                                                                             7.8%\n",
       "modivo, modivo, modivo, modivo, modivo, modivo, modivo, modivo, modivo                                                                                                                                                                                                                                                                6.4%\n",
       "google, google, google, google, google, google, google, google, google                                                                                                                                                                                                                                                                4.8%\n",
       "restricted, restricted, restricted, restricted, restricted, restricted, restricted, restricted, restricted                                                                                                                                                                                                                            4.7%\n",
       "fb, fb, fb, fb, fb, fb, fb, fb, fb                                                                                                                                                                                                                                                                                                    1.5%\n",
       "facebook, facebook, facebook, facebook, facebook                                                                                                                                                                                                                                                                                      1.1%\n",
       "facebook, facebook, facebook, facebook                                                                                                                                                                                                                                                                                                1.1%\n",
       "facebook, facebook, facebook, facebook, facebook, facebook                                                                                                                                                                                                                                                                            1.1%\n",
       "facebook, facebook, facebook, facebook, facebook, facebook, facebook                                                                                                                                                                                                                                                                  1.1%\n",
       "facebook, facebook, facebook                                                                                                                                                                                                                                                                                                          1.0%\n",
       "facebook, facebook, facebook, facebook, facebook, facebook, facebook, facebook                                                                                                                                                                                                                                                        1.0%\n",
       "restricted, restricted, restricted, restricted, restricted, restricted, restricted, restricted, restricted, restricted, restricted, restricted, restricted, restricted, restricted, restricted, restricted                                                                                                                            0.8%\n",
       "synerise, synerise, synerise, synerise, synerise, synerise, synerise, synerise, synerise                                                                                                                                                                                                                                              0.7%\n",
       "ig, ig, ig, ig, ig, ig, ig, ig, ig                                                                                                                                                                                                                                                                                                    0.7%\n",
       "facebook, facebook                                                                                                                                                                                                                                                                                                                    0.6%\n",
       "googleadwords_int, googleadwords_int, googleadwords_int, googleadwords_int, googleadwords_int, googleadwords_int, googleadwords_int, googleadwords_int, organic                                                                                                                                                                       0.6%\n",
       "googleadwords_int, googleadwords_int, googleadwords_int, googleadwords_int, googleadwords_int, googleadwords_int, googleadwords_int, googleadwords_int, googleadwords_int, googleadwords_int, googleadwords_int, googleadwords_int, googleadwords_int, googleadwords_int, googleadwords_int, googleadwords_int, googleadwords_int     0.5%\n",
       "criteonew_int, criteonew_int, criteonew_int, criteonew_int, criteonew_int, criteonew_int, criteonew_int, criteonew_int, criteonew_int                                                                                                                                                                                                 0.5%\n",
       "glami, glami, glami, glami, glami, glami, glami, glami, glami                                                                                                                                                                                                                                                                         0.5%\n",
       "Name: path, dtype: object"
      ]
     },
     "execution_count": 7,
     "metadata": {},
     "output_type": "execute_result"
    }
   ],
   "source": [
    "only_clicks['path'].value_counts(normalize=True).head(20).mul(100).round(1).astype(str) + '%'"
   ]
  },
  {
   "cell_type": "markdown",
   "metadata": {},
   "source": [
    "TOP20 ścieżek jest o tyle zaskające, że nie występują tu żadne ścieżki międzykanałowe, wszystkie z nich są monokanałowe i jedno źródło od początku do końca występuje (a przynajmniej tak atrybuje to appsflyer) na ścieżce konwersji.\n",
    "Za 31% konwersji odpowiada ścieżka 9 x facebook, co daje przypuszczenia, że być może jest to frequency cap ustawiony na facebooku."
   ]
  },
  {
   "cell_type": "markdown",
   "metadata": {},
   "source": [
    "______________________________________________________________________________________"
   ]
  },
  {
   "cell_type": "markdown",
   "metadata": {},
   "source": [
    "Jaka różnica w ścieżkach pomiędzy rynkami?"
   ]
  },
  {
   "cell_type": "code",
   "execution_count": 8,
   "metadata": {},
   "outputs": [
    {
     "name": "stderr",
     "output_type": "stream",
     "text": [
      "C:\\Users\\maciej.kunicki\\AppData\\Local\\Temp\\ipykernel_16276\\2007425306.py:2: FutureWarning: Passing a negative integer is deprecated in version 1.0 and will not be supported in future version. Instead, use None to not limit the column width.\n",
      "  pd.set_option('max_colwidth', -1)\n"
     ]
    }
   ],
   "source": [
    "pd.set_option('display.expand_frame_repr', False)\n",
    "pd.set_option('max_colwidth', -1)"
   ]
  },
  {
   "cell_type": "code",
   "execution_count": 9,
   "metadata": {},
   "outputs": [
    {
     "data": {
      "text/plain": [
       "PL    211568\n",
       "RO    175339\n",
       "BG    98319 \n",
       "GR    59337 \n",
       "HU    56902 \n",
       "IT    37669 \n",
       "HR    32582 \n",
       "CZ    29120 \n",
       "UA    26474 \n",
       "LT    19394 \n",
       "SK    18280 \n",
       "DE    15665 \n",
       "FR    7827  \n",
       "Name: conversion_country, dtype: int64"
      ]
     },
     "execution_count": 9,
     "metadata": {},
     "output_type": "execute_result"
    }
   ],
   "source": [
    "only_clicks['conversion_country'].value_counts().head(13)"
   ]
  },
  {
   "cell_type": "code",
   "execution_count": 10,
   "metadata": {},
   "outputs": [
    {
     "name": "stdout",
     "output_type": "stream",
     "text": [
      "Polska\n"
     ]
    },
    {
     "data": {
      "text/html": [
       "<div>\n",
       "<style scoped>\n",
       "    .dataframe tbody tr th:only-of-type {\n",
       "        vertical-align: middle;\n",
       "    }\n",
       "\n",
       "    .dataframe tbody tr th {\n",
       "        vertical-align: top;\n",
       "    }\n",
       "\n",
       "    .dataframe thead th {\n",
       "        text-align: right;\n",
       "    }\n",
       "</style>\n",
       "<table border=\"1\" class=\"dataframe\">\n",
       "  <thead>\n",
       "    <tr style=\"text-align: right;\">\n",
       "      <th></th>\n",
       "      <th>path</th>\n",
       "      <th>count</th>\n",
       "    </tr>\n",
       "  </thead>\n",
       "  <tbody>\n",
       "    <tr>\n",
       "      <th>0</th>\n",
       "      <td>facebook, facebook, facebook, facebook, facebook, facebook, facebook, facebook, facebook</td>\n",
       "      <td>62331</td>\n",
       "    </tr>\n",
       "    <tr>\n",
       "      <th>1</th>\n",
       "      <td>googleadwords_int, googleadwords_int, googleadwords_int, googleadwords_int, googleadwords_int, googleadwords_int, googleadwords_int, googleadwords_int, googleadwords_int</td>\n",
       "      <td>12845</td>\n",
       "    </tr>\n",
       "    <tr>\n",
       "      <th>2</th>\n",
       "      <td>modivo, modivo, modivo, modivo, modivo, modivo, modivo, modivo, modivo</td>\n",
       "      <td>11748</td>\n",
       "    </tr>\n",
       "    <tr>\n",
       "      <th>3</th>\n",
       "      <td>google, google, google, google, google, google, google, google, google</td>\n",
       "      <td>11432</td>\n",
       "    </tr>\n",
       "    <tr>\n",
       "      <th>4</th>\n",
       "      <td>restricted, restricted, restricted, restricted, restricted, restricted, restricted, restricted, restricted</td>\n",
       "      <td>10030</td>\n",
       "    </tr>\n",
       "    <tr>\n",
       "      <th>5</th>\n",
       "      <td>criteonew_int, criteonew_int, criteonew_int, criteonew_int, criteonew_int, criteonew_int, criteonew_int, criteonew_int, criteonew_int</td>\n",
       "      <td>4065</td>\n",
       "    </tr>\n",
       "    <tr>\n",
       "      <th>6</th>\n",
       "      <td>facebook, facebook, facebook, facebook, facebook</td>\n",
       "      <td>2283</td>\n",
       "    </tr>\n",
       "    <tr>\n",
       "      <th>7</th>\n",
       "      <td>facebook, facebook, facebook, facebook, facebook, facebook</td>\n",
       "      <td>2265</td>\n",
       "    </tr>\n",
       "    <tr>\n",
       "      <th>8</th>\n",
       "      <td>facebook, facebook, facebook, facebook</td>\n",
       "      <td>2253</td>\n",
       "    </tr>\n",
       "    <tr>\n",
       "      <th>9</th>\n",
       "      <td>facebook, facebook, facebook</td>\n",
       "      <td>2079</td>\n",
       "    </tr>\n",
       "  </tbody>\n",
       "</table>\n",
       "</div>"
      ],
      "text/plain": [
       "                                                                                                                                                                        path  count\n",
       "0  facebook, facebook, facebook, facebook, facebook, facebook, facebook, facebook, facebook                                                                                   62331\n",
       "1  googleadwords_int, googleadwords_int, googleadwords_int, googleadwords_int, googleadwords_int, googleadwords_int, googleadwords_int, googleadwords_int, googleadwords_int  12845\n",
       "2  modivo, modivo, modivo, modivo, modivo, modivo, modivo, modivo, modivo                                                                                                     11748\n",
       "3  google, google, google, google, google, google, google, google, google                                                                                                     11432\n",
       "4  restricted, restricted, restricted, restricted, restricted, restricted, restricted, restricted, restricted                                                                 10030\n",
       "5  criteonew_int, criteonew_int, criteonew_int, criteonew_int, criteonew_int, criteonew_int, criteonew_int, criteonew_int, criteonew_int                                      4065 \n",
       "6  facebook, facebook, facebook, facebook, facebook                                                                                                                           2283 \n",
       "7  facebook, facebook, facebook, facebook, facebook, facebook                                                                                                                 2265 \n",
       "8  facebook, facebook, facebook, facebook                                                                                                                                     2253 \n",
       "9  facebook, facebook, facebook                                                                                                                                               2079 "
      ]
     },
     "execution_count": 10,
     "metadata": {},
     "output_type": "execute_result"
    }
   ],
   "source": [
    "print('Polska')\n",
    "country = only_clicks[only_clicks['conversion_country'] == 'PL']['path'].value_counts().head(10)\n",
    "country = pd.DataFrame(country).reset_index()\n",
    "country.columns = ['path','count']\n",
    "country"
   ]
  },
  {
   "cell_type": "code",
   "execution_count": 11,
   "metadata": {},
   "outputs": [
    {
     "name": "stdout",
     "output_type": "stream",
     "text": [
      "Rumunia\n"
     ]
    },
    {
     "data": {
      "text/html": [
       "<div>\n",
       "<style scoped>\n",
       "    .dataframe tbody tr th:only-of-type {\n",
       "        vertical-align: middle;\n",
       "    }\n",
       "\n",
       "    .dataframe tbody tr th {\n",
       "        vertical-align: top;\n",
       "    }\n",
       "\n",
       "    .dataframe thead th {\n",
       "        text-align: right;\n",
       "    }\n",
       "</style>\n",
       "<table border=\"1\" class=\"dataframe\">\n",
       "  <thead>\n",
       "    <tr style=\"text-align: right;\">\n",
       "      <th></th>\n",
       "      <th>path</th>\n",
       "      <th>count</th>\n",
       "    </tr>\n",
       "  </thead>\n",
       "  <tbody>\n",
       "    <tr>\n",
       "      <th>0</th>\n",
       "      <td>facebook, facebook, facebook, facebook, facebook, facebook, facebook, facebook, facebook</td>\n",
       "      <td>52389</td>\n",
       "    </tr>\n",
       "    <tr>\n",
       "      <th>1</th>\n",
       "      <td>googleadwords_int, googleadwords_int, googleadwords_int, googleadwords_int, googleadwords_int, googleadwords_int, googleadwords_int, googleadwords_int, googleadwords_int</td>\n",
       "      <td>11005</td>\n",
       "    </tr>\n",
       "    <tr>\n",
       "      <th>2</th>\n",
       "      <td>restricted, restricted, restricted, restricted, restricted, restricted, restricted, restricted, restricted</td>\n",
       "      <td>10032</td>\n",
       "    </tr>\n",
       "    <tr>\n",
       "      <th>3</th>\n",
       "      <td>modivo, modivo, modivo, modivo, modivo, modivo, modivo, modivo, modivo</td>\n",
       "      <td>7646</td>\n",
       "    </tr>\n",
       "    <tr>\n",
       "      <th>4</th>\n",
       "      <td>google, google, google, google, google, google, google, google, google</td>\n",
       "      <td>7640</td>\n",
       "    </tr>\n",
       "    <tr>\n",
       "      <th>5</th>\n",
       "      <td>fb, fb, fb, fb, fb, fb, fb, fb, fb</td>\n",
       "      <td>3875</td>\n",
       "    </tr>\n",
       "    <tr>\n",
       "      <th>6</th>\n",
       "      <td>facebook, facebook, facebook, facebook, facebook</td>\n",
       "      <td>2371</td>\n",
       "    </tr>\n",
       "    <tr>\n",
       "      <th>7</th>\n",
       "      <td>facebook, facebook, facebook, facebook, facebook, facebook, facebook</td>\n",
       "      <td>2296</td>\n",
       "    </tr>\n",
       "    <tr>\n",
       "      <th>8</th>\n",
       "      <td>facebook, facebook, facebook, facebook, facebook, facebook</td>\n",
       "      <td>2237</td>\n",
       "    </tr>\n",
       "    <tr>\n",
       "      <th>9</th>\n",
       "      <td>facebook, facebook, facebook, facebook</td>\n",
       "      <td>2193</td>\n",
       "    </tr>\n",
       "  </tbody>\n",
       "</table>\n",
       "</div>"
      ],
      "text/plain": [
       "                                                                                                                                                                        path  count\n",
       "0  facebook, facebook, facebook, facebook, facebook, facebook, facebook, facebook, facebook                                                                                   52389\n",
       "1  googleadwords_int, googleadwords_int, googleadwords_int, googleadwords_int, googleadwords_int, googleadwords_int, googleadwords_int, googleadwords_int, googleadwords_int  11005\n",
       "2  restricted, restricted, restricted, restricted, restricted, restricted, restricted, restricted, restricted                                                                 10032\n",
       "3  modivo, modivo, modivo, modivo, modivo, modivo, modivo, modivo, modivo                                                                                                     7646 \n",
       "4  google, google, google, google, google, google, google, google, google                                                                                                     7640 \n",
       "5  fb, fb, fb, fb, fb, fb, fb, fb, fb                                                                                                                                         3875 \n",
       "6  facebook, facebook, facebook, facebook, facebook                                                                                                                           2371 \n",
       "7  facebook, facebook, facebook, facebook, facebook, facebook, facebook                                                                                                       2296 \n",
       "8  facebook, facebook, facebook, facebook, facebook, facebook                                                                                                                 2237 \n",
       "9  facebook, facebook, facebook, facebook                                                                                                                                     2193 "
      ]
     },
     "execution_count": 11,
     "metadata": {},
     "output_type": "execute_result"
    }
   ],
   "source": [
    "print('Rumunia')\n",
    "country = only_clicks[only_clicks['conversion_country'] == 'RO']['path'].value_counts().head(10)\n",
    "country = pd.DataFrame(country).reset_index()\n",
    "country.columns = ['path','count']\n",
    "country"
   ]
  },
  {
   "cell_type": "code",
   "execution_count": 12,
   "metadata": {},
   "outputs": [
    {
     "name": "stdout",
     "output_type": "stream",
     "text": [
      "Bułgaria\n"
     ]
    },
    {
     "data": {
      "text/html": [
       "<div>\n",
       "<style scoped>\n",
       "    .dataframe tbody tr th:only-of-type {\n",
       "        vertical-align: middle;\n",
       "    }\n",
       "\n",
       "    .dataframe tbody tr th {\n",
       "        vertical-align: top;\n",
       "    }\n",
       "\n",
       "    .dataframe thead th {\n",
       "        text-align: right;\n",
       "    }\n",
       "</style>\n",
       "<table border=\"1\" class=\"dataframe\">\n",
       "  <thead>\n",
       "    <tr style=\"text-align: right;\">\n",
       "      <th></th>\n",
       "      <th>path</th>\n",
       "      <th>count</th>\n",
       "    </tr>\n",
       "  </thead>\n",
       "  <tbody>\n",
       "    <tr>\n",
       "      <th>0</th>\n",
       "      <td>facebook, facebook, facebook, facebook, facebook, facebook, facebook, facebook, facebook</td>\n",
       "      <td>36163</td>\n",
       "    </tr>\n",
       "    <tr>\n",
       "      <th>1</th>\n",
       "      <td>googleadwords_int, googleadwords_int, googleadwords_int, googleadwords_int, googleadwords_int, googleadwords_int, googleadwords_int, googleadwords_int, googleadwords_int</td>\n",
       "      <td>6282</td>\n",
       "    </tr>\n",
       "    <tr>\n",
       "      <th>2</th>\n",
       "      <td>restricted, restricted, restricted, restricted, restricted, restricted, restricted, restricted, restricted</td>\n",
       "      <td>6281</td>\n",
       "    </tr>\n",
       "    <tr>\n",
       "      <th>3</th>\n",
       "      <td>modivo, modivo, modivo, modivo, modivo, modivo, modivo, modivo, modivo</td>\n",
       "      <td>4445</td>\n",
       "    </tr>\n",
       "    <tr>\n",
       "      <th>4</th>\n",
       "      <td>fb, fb, fb, fb, fb, fb, fb, fb, fb</td>\n",
       "      <td>1790</td>\n",
       "    </tr>\n",
       "    <tr>\n",
       "      <th>5</th>\n",
       "      <td>google, google, google, google, google, google, google, google, google</td>\n",
       "      <td>1509</td>\n",
       "    </tr>\n",
       "    <tr>\n",
       "      <th>6</th>\n",
       "      <td>restricted, restricted, restricted, restricted, restricted, restricted, restricted, restricted, restricted, restricted, restricted, restricted, restricted, restricted, restricted, restricted, restricted</td>\n",
       "      <td>1190</td>\n",
       "    </tr>\n",
       "    <tr>\n",
       "      <th>7</th>\n",
       "      <td>facebook, facebook, facebook, facebook, facebook</td>\n",
       "      <td>1099</td>\n",
       "    </tr>\n",
       "    <tr>\n",
       "      <th>8</th>\n",
       "      <td>facebook, facebook, facebook, facebook, facebook, facebook</td>\n",
       "      <td>1075</td>\n",
       "    </tr>\n",
       "    <tr>\n",
       "      <th>9</th>\n",
       "      <td>facebook, facebook, facebook, facebook</td>\n",
       "      <td>1075</td>\n",
       "    </tr>\n",
       "  </tbody>\n",
       "</table>\n",
       "</div>"
      ],
      "text/plain": [
       "                                                                                                                                                                                                         path  count\n",
       "0  facebook, facebook, facebook, facebook, facebook, facebook, facebook, facebook, facebook                                                                                                                    36163\n",
       "1  googleadwords_int, googleadwords_int, googleadwords_int, googleadwords_int, googleadwords_int, googleadwords_int, googleadwords_int, googleadwords_int, googleadwords_int                                   6282 \n",
       "2  restricted, restricted, restricted, restricted, restricted, restricted, restricted, restricted, restricted                                                                                                  6281 \n",
       "3  modivo, modivo, modivo, modivo, modivo, modivo, modivo, modivo, modivo                                                                                                                                      4445 \n",
       "4  fb, fb, fb, fb, fb, fb, fb, fb, fb                                                                                                                                                                          1790 \n",
       "5  google, google, google, google, google, google, google, google, google                                                                                                                                      1509 \n",
       "6  restricted, restricted, restricted, restricted, restricted, restricted, restricted, restricted, restricted, restricted, restricted, restricted, restricted, restricted, restricted, restricted, restricted  1190 \n",
       "7  facebook, facebook, facebook, facebook, facebook                                                                                                                                                            1099 \n",
       "8  facebook, facebook, facebook, facebook, facebook, facebook                                                                                                                                                  1075 \n",
       "9  facebook, facebook, facebook, facebook                                                                                                                                                                      1075 "
      ]
     },
     "execution_count": 12,
     "metadata": {},
     "output_type": "execute_result"
    }
   ],
   "source": [
    "print('Bułgaria')\n",
    "country = only_clicks[only_clicks['conversion_country'] == 'BG']['path'].value_counts().head(10)\n",
    "country = pd.DataFrame(country).reset_index()\n",
    "country.columns = ['path','count']\n",
    "country"
   ]
  },
  {
   "cell_type": "code",
   "execution_count": 13,
   "metadata": {},
   "outputs": [
    {
     "name": "stdout",
     "output_type": "stream",
     "text": [
      "Grecja\n"
     ]
    },
    {
     "data": {
      "text/html": [
       "<div>\n",
       "<style scoped>\n",
       "    .dataframe tbody tr th:only-of-type {\n",
       "        vertical-align: middle;\n",
       "    }\n",
       "\n",
       "    .dataframe tbody tr th {\n",
       "        vertical-align: top;\n",
       "    }\n",
       "\n",
       "    .dataframe thead th {\n",
       "        text-align: right;\n",
       "    }\n",
       "</style>\n",
       "<table border=\"1\" class=\"dataframe\">\n",
       "  <thead>\n",
       "    <tr style=\"text-align: right;\">\n",
       "      <th></th>\n",
       "      <th>path</th>\n",
       "      <th>count</th>\n",
       "    </tr>\n",
       "  </thead>\n",
       "  <tbody>\n",
       "    <tr>\n",
       "      <th>0</th>\n",
       "      <td>facebook, facebook, facebook, facebook, facebook, facebook, facebook, facebook, facebook</td>\n",
       "      <td>17136</td>\n",
       "    </tr>\n",
       "    <tr>\n",
       "      <th>1</th>\n",
       "      <td>googleadwords_int, googleadwords_int, googleadwords_int, googleadwords_int, googleadwords_int, googleadwords_int, googleadwords_int, googleadwords_int, googleadwords_int</td>\n",
       "      <td>6467</td>\n",
       "    </tr>\n",
       "    <tr>\n",
       "      <th>2</th>\n",
       "      <td>google, google, google, google, google, google, google, google, google</td>\n",
       "      <td>3713</td>\n",
       "    </tr>\n",
       "    <tr>\n",
       "      <th>3</th>\n",
       "      <td>modivo, modivo, modivo, modivo, modivo, modivo, modivo, modivo, modivo</td>\n",
       "      <td>3279</td>\n",
       "    </tr>\n",
       "    <tr>\n",
       "      <th>4</th>\n",
       "      <td>restricted, restricted, restricted, restricted, restricted, restricted, restricted, restricted, restricted</td>\n",
       "      <td>1915</td>\n",
       "    </tr>\n",
       "    <tr>\n",
       "      <th>5</th>\n",
       "      <td>skroutz, skroutz, skroutz, skroutz, skroutz, skroutz, skroutz, skroutz, skroutz</td>\n",
       "      <td>1715</td>\n",
       "    </tr>\n",
       "    <tr>\n",
       "      <th>6</th>\n",
       "      <td>appnext_int, appnext_int, appnext_int, appnext_int, appnext_int, appnext_int, appnext_int, appnext_int, appnext_int</td>\n",
       "      <td>701</td>\n",
       "    </tr>\n",
       "    <tr>\n",
       "      <th>7</th>\n",
       "      <td>fb, fb, fb, fb, fb, fb, fb, fb, fb</td>\n",
       "      <td>613</td>\n",
       "    </tr>\n",
       "    <tr>\n",
       "      <th>8</th>\n",
       "      <td>facebook, facebook, facebook, facebook</td>\n",
       "      <td>609</td>\n",
       "    </tr>\n",
       "    <tr>\n",
       "      <th>9</th>\n",
       "      <td>facebook, facebook, facebook, facebook, facebook</td>\n",
       "      <td>606</td>\n",
       "    </tr>\n",
       "  </tbody>\n",
       "</table>\n",
       "</div>"
      ],
      "text/plain": [
       "                                                                                                                                                                        path  count\n",
       "0  facebook, facebook, facebook, facebook, facebook, facebook, facebook, facebook, facebook                                                                                   17136\n",
       "1  googleadwords_int, googleadwords_int, googleadwords_int, googleadwords_int, googleadwords_int, googleadwords_int, googleadwords_int, googleadwords_int, googleadwords_int  6467 \n",
       "2  google, google, google, google, google, google, google, google, google                                                                                                     3713 \n",
       "3  modivo, modivo, modivo, modivo, modivo, modivo, modivo, modivo, modivo                                                                                                     3279 \n",
       "4  restricted, restricted, restricted, restricted, restricted, restricted, restricted, restricted, restricted                                                                 1915 \n",
       "5  skroutz, skroutz, skroutz, skroutz, skroutz, skroutz, skroutz, skroutz, skroutz                                                                                            1715 \n",
       "6  appnext_int, appnext_int, appnext_int, appnext_int, appnext_int, appnext_int, appnext_int, appnext_int, appnext_int                                                        701  \n",
       "7  fb, fb, fb, fb, fb, fb, fb, fb, fb                                                                                                                                         613  \n",
       "8  facebook, facebook, facebook, facebook                                                                                                                                     609  \n",
       "9  facebook, facebook, facebook, facebook, facebook                                                                                                                           606  "
      ]
     },
     "execution_count": 13,
     "metadata": {},
     "output_type": "execute_result"
    }
   ],
   "source": [
    "print('Grecja')\n",
    "country = only_clicks[only_clicks['conversion_country'] == 'GR']['path'].value_counts().head(10)\n",
    "country = pd.DataFrame(country).reset_index()\n",
    "country.columns = ['path','count']\n",
    "country"
   ]
  },
  {
   "cell_type": "code",
   "execution_count": 14,
   "metadata": {},
   "outputs": [
    {
     "name": "stdout",
     "output_type": "stream",
     "text": [
      "Węgry\n"
     ]
    },
    {
     "data": {
      "text/html": [
       "<div>\n",
       "<style scoped>\n",
       "    .dataframe tbody tr th:only-of-type {\n",
       "        vertical-align: middle;\n",
       "    }\n",
       "\n",
       "    .dataframe tbody tr th {\n",
       "        vertical-align: top;\n",
       "    }\n",
       "\n",
       "    .dataframe thead th {\n",
       "        text-align: right;\n",
       "    }\n",
       "</style>\n",
       "<table border=\"1\" class=\"dataframe\">\n",
       "  <thead>\n",
       "    <tr style=\"text-align: right;\">\n",
       "      <th></th>\n",
       "      <th>path</th>\n",
       "      <th>count</th>\n",
       "    </tr>\n",
       "  </thead>\n",
       "  <tbody>\n",
       "    <tr>\n",
       "      <th>0</th>\n",
       "      <td>facebook, facebook, facebook, facebook, facebook, facebook, facebook, facebook, facebook</td>\n",
       "      <td>25266</td>\n",
       "    </tr>\n",
       "    <tr>\n",
       "      <th>1</th>\n",
       "      <td>googleadwords_int, googleadwords_int, googleadwords_int, googleadwords_int, googleadwords_int, googleadwords_int, googleadwords_int, googleadwords_int, googleadwords_int</td>\n",
       "      <td>6573</td>\n",
       "    </tr>\n",
       "    <tr>\n",
       "      <th>2</th>\n",
       "      <td>restricted, restricted, restricted, restricted, restricted, restricted, restricted, restricted, restricted</td>\n",
       "      <td>2836</td>\n",
       "    </tr>\n",
       "    <tr>\n",
       "      <th>3</th>\n",
       "      <td>modivo, modivo, modivo, modivo, modivo, modivo, modivo, modivo, modivo</td>\n",
       "      <td>1552</td>\n",
       "    </tr>\n",
       "    <tr>\n",
       "      <th>4</th>\n",
       "      <td>google, google, google, google, google, google, google, google, google</td>\n",
       "      <td>1208</td>\n",
       "    </tr>\n",
       "    <tr>\n",
       "      <th>5</th>\n",
       "      <td>facebook, facebook, facebook, facebook</td>\n",
       "      <td>1061</td>\n",
       "    </tr>\n",
       "    <tr>\n",
       "      <th>6</th>\n",
       "      <td>facebook, facebook, facebook, facebook, facebook</td>\n",
       "      <td>946</td>\n",
       "    </tr>\n",
       "    <tr>\n",
       "      <th>7</th>\n",
       "      <td>facebook, facebook, facebook</td>\n",
       "      <td>908</td>\n",
       "    </tr>\n",
       "    <tr>\n",
       "      <th>8</th>\n",
       "      <td>facebook, facebook, facebook, facebook, facebook, facebook, facebook</td>\n",
       "      <td>850</td>\n",
       "    </tr>\n",
       "    <tr>\n",
       "      <th>9</th>\n",
       "      <td>facebook, facebook, facebook, facebook, facebook, facebook, facebook, facebook</td>\n",
       "      <td>845</td>\n",
       "    </tr>\n",
       "  </tbody>\n",
       "</table>\n",
       "</div>"
      ],
      "text/plain": [
       "                                                                                                                                                                        path  count\n",
       "0  facebook, facebook, facebook, facebook, facebook, facebook, facebook, facebook, facebook                                                                                   25266\n",
       "1  googleadwords_int, googleadwords_int, googleadwords_int, googleadwords_int, googleadwords_int, googleadwords_int, googleadwords_int, googleadwords_int, googleadwords_int  6573 \n",
       "2  restricted, restricted, restricted, restricted, restricted, restricted, restricted, restricted, restricted                                                                 2836 \n",
       "3  modivo, modivo, modivo, modivo, modivo, modivo, modivo, modivo, modivo                                                                                                     1552 \n",
       "4  google, google, google, google, google, google, google, google, google                                                                                                     1208 \n",
       "5  facebook, facebook, facebook, facebook                                                                                                                                     1061 \n",
       "6  facebook, facebook, facebook, facebook, facebook                                                                                                                           946  \n",
       "7  facebook, facebook, facebook                                                                                                                                               908  \n",
       "8  facebook, facebook, facebook, facebook, facebook, facebook, facebook                                                                                                       850  \n",
       "9  facebook, facebook, facebook, facebook, facebook, facebook, facebook, facebook                                                                                             845  "
      ]
     },
     "execution_count": 14,
     "metadata": {},
     "output_type": "execute_result"
    }
   ],
   "source": [
    "print('Węgry')\n",
    "country = only_clicks[only_clicks['conversion_country'] == 'HU']['path'].value_counts().head(10)\n",
    "country = pd.DataFrame(country).reset_index()\n",
    "country.columns = ['path','count']\n",
    "country"
   ]
  },
  {
   "cell_type": "code",
   "execution_count": 15,
   "metadata": {},
   "outputs": [
    {
     "name": "stdout",
     "output_type": "stream",
     "text": [
      "Włochy\n"
     ]
    },
    {
     "data": {
      "text/html": [
       "<div>\n",
       "<style scoped>\n",
       "    .dataframe tbody tr th:only-of-type {\n",
       "        vertical-align: middle;\n",
       "    }\n",
       "\n",
       "    .dataframe tbody tr th {\n",
       "        vertical-align: top;\n",
       "    }\n",
       "\n",
       "    .dataframe thead th {\n",
       "        text-align: right;\n",
       "    }\n",
       "</style>\n",
       "<table border=\"1\" class=\"dataframe\">\n",
       "  <thead>\n",
       "    <tr style=\"text-align: right;\">\n",
       "      <th></th>\n",
       "      <th>path</th>\n",
       "      <th>count</th>\n",
       "    </tr>\n",
       "  </thead>\n",
       "  <tbody>\n",
       "    <tr>\n",
       "      <th>0</th>\n",
       "      <td>facebook, facebook, facebook, facebook, facebook, facebook, facebook, facebook, facebook</td>\n",
       "      <td>16799</td>\n",
       "    </tr>\n",
       "    <tr>\n",
       "      <th>1</th>\n",
       "      <td>google, google, google, google, google, google, google, google, google</td>\n",
       "      <td>2748</td>\n",
       "    </tr>\n",
       "    <tr>\n",
       "      <th>2</th>\n",
       "      <td>modivo, modivo, modivo, modivo, modivo, modivo, modivo, modivo, modivo</td>\n",
       "      <td>2094</td>\n",
       "    </tr>\n",
       "    <tr>\n",
       "      <th>3</th>\n",
       "      <td>restricted, restricted, restricted, restricted, restricted, restricted, restricted, restricted, restricted</td>\n",
       "      <td>1070</td>\n",
       "    </tr>\n",
       "    <tr>\n",
       "      <th>4</th>\n",
       "      <td>googleadwords_int, googleadwords_int, googleadwords_int, googleadwords_int, googleadwords_int, googleadwords_int, googleadwords_int, googleadwords_int, googleadwords_int</td>\n",
       "      <td>990</td>\n",
       "    </tr>\n",
       "    <tr>\n",
       "      <th>5</th>\n",
       "      <td>stileo, stileo, stileo, stileo, stileo, stileo, stileo, stileo, stileo</td>\n",
       "      <td>922</td>\n",
       "    </tr>\n",
       "    <tr>\n",
       "      <th>6</th>\n",
       "      <td>facebook, facebook, facebook, facebook</td>\n",
       "      <td>641</td>\n",
       "    </tr>\n",
       "    <tr>\n",
       "      <th>7</th>\n",
       "      <td>facebook, facebook, facebook</td>\n",
       "      <td>621</td>\n",
       "    </tr>\n",
       "    <tr>\n",
       "      <th>8</th>\n",
       "      <td>facebook, facebook, facebook, facebook, facebook</td>\n",
       "      <td>616</td>\n",
       "    </tr>\n",
       "    <tr>\n",
       "      <th>9</th>\n",
       "      <td>facebook, facebook, facebook, facebook, facebook, facebook</td>\n",
       "      <td>600</td>\n",
       "    </tr>\n",
       "  </tbody>\n",
       "</table>\n",
       "</div>"
      ],
      "text/plain": [
       "                                                                                                                                                                        path  count\n",
       "0  facebook, facebook, facebook, facebook, facebook, facebook, facebook, facebook, facebook                                                                                   16799\n",
       "1  google, google, google, google, google, google, google, google, google                                                                                                     2748 \n",
       "2  modivo, modivo, modivo, modivo, modivo, modivo, modivo, modivo, modivo                                                                                                     2094 \n",
       "3  restricted, restricted, restricted, restricted, restricted, restricted, restricted, restricted, restricted                                                                 1070 \n",
       "4  googleadwords_int, googleadwords_int, googleadwords_int, googleadwords_int, googleadwords_int, googleadwords_int, googleadwords_int, googleadwords_int, googleadwords_int  990  \n",
       "5  stileo, stileo, stileo, stileo, stileo, stileo, stileo, stileo, stileo                                                                                                     922  \n",
       "6  facebook, facebook, facebook, facebook                                                                                                                                     641  \n",
       "7  facebook, facebook, facebook                                                                                                                                               621  \n",
       "8  facebook, facebook, facebook, facebook, facebook                                                                                                                           616  \n",
       "9  facebook, facebook, facebook, facebook, facebook, facebook                                                                                                                 600  "
      ]
     },
     "execution_count": 15,
     "metadata": {},
     "output_type": "execute_result"
    }
   ],
   "source": [
    "print('Włochy')\n",
    "country = only_clicks[only_clicks['conversion_country'] == 'IT']['path'].value_counts().head(10)\n",
    "country = pd.DataFrame(country).reset_index()\n",
    "country.columns = ['path','count']\n",
    "country"
   ]
  },
  {
   "cell_type": "code",
   "execution_count": 16,
   "metadata": {},
   "outputs": [
    {
     "name": "stdout",
     "output_type": "stream",
     "text": [
      "Chorwacja\n"
     ]
    },
    {
     "data": {
      "text/html": [
       "<div>\n",
       "<style scoped>\n",
       "    .dataframe tbody tr th:only-of-type {\n",
       "        vertical-align: middle;\n",
       "    }\n",
       "\n",
       "    .dataframe tbody tr th {\n",
       "        vertical-align: top;\n",
       "    }\n",
       "\n",
       "    .dataframe thead th {\n",
       "        text-align: right;\n",
       "    }\n",
       "</style>\n",
       "<table border=\"1\" class=\"dataframe\">\n",
       "  <thead>\n",
       "    <tr style=\"text-align: right;\">\n",
       "      <th></th>\n",
       "      <th>path</th>\n",
       "      <th>count</th>\n",
       "    </tr>\n",
       "  </thead>\n",
       "  <tbody>\n",
       "    <tr>\n",
       "      <th>0</th>\n",
       "      <td>facebook, facebook, facebook, facebook, facebook, facebook, facebook, facebook, facebook</td>\n",
       "      <td>14336</td>\n",
       "    </tr>\n",
       "    <tr>\n",
       "      <th>1</th>\n",
       "      <td>googleadwords_int, googleadwords_int, googleadwords_int, googleadwords_int, googleadwords_int, googleadwords_int, googleadwords_int, googleadwords_int, googleadwords_int</td>\n",
       "      <td>4355</td>\n",
       "    </tr>\n",
       "    <tr>\n",
       "      <th>2</th>\n",
       "      <td>modivo, modivo, modivo, modivo, modivo, modivo, modivo, modivo, modivo</td>\n",
       "      <td>1317</td>\n",
       "    </tr>\n",
       "    <tr>\n",
       "      <th>3</th>\n",
       "      <td>restricted, restricted, restricted, restricted, restricted, restricted, restricted, restricted, restricted</td>\n",
       "      <td>918</td>\n",
       "    </tr>\n",
       "    <tr>\n",
       "      <th>4</th>\n",
       "      <td>glami, glami, glami, glami, glami, glami, glami, glami, glami</td>\n",
       "      <td>474</td>\n",
       "    </tr>\n",
       "    <tr>\n",
       "      <th>5</th>\n",
       "      <td>appnext_int, appnext_int, appnext_int, appnext_int, appnext_int, appnext_int, appnext_int, appnext_int, appnext_int</td>\n",
       "      <td>414</td>\n",
       "    </tr>\n",
       "    <tr>\n",
       "      <th>6</th>\n",
       "      <td>facebook, facebook, facebook, facebook, facebook</td>\n",
       "      <td>409</td>\n",
       "    </tr>\n",
       "    <tr>\n",
       "      <th>7</th>\n",
       "      <td>facebook, facebook, facebook, facebook</td>\n",
       "      <td>406</td>\n",
       "    </tr>\n",
       "    <tr>\n",
       "      <th>8</th>\n",
       "      <td>facebook, facebook, facebook, facebook, facebook, facebook</td>\n",
       "      <td>392</td>\n",
       "    </tr>\n",
       "    <tr>\n",
       "      <th>9</th>\n",
       "      <td>facebook, facebook, facebook, facebook, facebook, facebook, facebook, facebook</td>\n",
       "      <td>382</td>\n",
       "    </tr>\n",
       "  </tbody>\n",
       "</table>\n",
       "</div>"
      ],
      "text/plain": [
       "                                                                                                                                                                        path  count\n",
       "0  facebook, facebook, facebook, facebook, facebook, facebook, facebook, facebook, facebook                                                                                   14336\n",
       "1  googleadwords_int, googleadwords_int, googleadwords_int, googleadwords_int, googleadwords_int, googleadwords_int, googleadwords_int, googleadwords_int, googleadwords_int  4355 \n",
       "2  modivo, modivo, modivo, modivo, modivo, modivo, modivo, modivo, modivo                                                                                                     1317 \n",
       "3  restricted, restricted, restricted, restricted, restricted, restricted, restricted, restricted, restricted                                                                 918  \n",
       "4  glami, glami, glami, glami, glami, glami, glami, glami, glami                                                                                                              474  \n",
       "5  appnext_int, appnext_int, appnext_int, appnext_int, appnext_int, appnext_int, appnext_int, appnext_int, appnext_int                                                        414  \n",
       "6  facebook, facebook, facebook, facebook, facebook                                                                                                                           409  \n",
       "7  facebook, facebook, facebook, facebook                                                                                                                                     406  \n",
       "8  facebook, facebook, facebook, facebook, facebook, facebook                                                                                                                 392  \n",
       "9  facebook, facebook, facebook, facebook, facebook, facebook, facebook, facebook                                                                                             382  "
      ]
     },
     "execution_count": 16,
     "metadata": {},
     "output_type": "execute_result"
    }
   ],
   "source": [
    "print('Chorwacja')\n",
    "country = only_clicks[only_clicks['conversion_country'] == 'HR']['path'].value_counts().head(10)\n",
    "country = pd.DataFrame(country).reset_index()\n",
    "country.columns = ['path','count']\n",
    "country"
   ]
  },
  {
   "cell_type": "code",
   "execution_count": 17,
   "metadata": {},
   "outputs": [
    {
     "name": "stdout",
     "output_type": "stream",
     "text": [
      "Czechy\n"
     ]
    },
    {
     "data": {
      "text/html": [
       "<div>\n",
       "<style scoped>\n",
       "    .dataframe tbody tr th:only-of-type {\n",
       "        vertical-align: middle;\n",
       "    }\n",
       "\n",
       "    .dataframe tbody tr th {\n",
       "        vertical-align: top;\n",
       "    }\n",
       "\n",
       "    .dataframe thead th {\n",
       "        text-align: right;\n",
       "    }\n",
       "</style>\n",
       "<table border=\"1\" class=\"dataframe\">\n",
       "  <thead>\n",
       "    <tr style=\"text-align: right;\">\n",
       "      <th></th>\n",
       "      <th>path</th>\n",
       "      <th>count</th>\n",
       "    </tr>\n",
       "  </thead>\n",
       "  <tbody>\n",
       "    <tr>\n",
       "      <th>0</th>\n",
       "      <td>googleadwords_int, googleadwords_int, googleadwords_int, googleadwords_int, googleadwords_int, googleadwords_int, googleadwords_int, googleadwords_int, googleadwords_int</td>\n",
       "      <td>4325</td>\n",
       "    </tr>\n",
       "    <tr>\n",
       "      <th>1</th>\n",
       "      <td>facebook, facebook, facebook, facebook, facebook, facebook, facebook, facebook, facebook</td>\n",
       "      <td>3684</td>\n",
       "    </tr>\n",
       "    <tr>\n",
       "      <th>2</th>\n",
       "      <td>modivo, modivo, modivo, modivo, modivo, modivo, modivo, modivo, modivo</td>\n",
       "      <td>3057</td>\n",
       "    </tr>\n",
       "    <tr>\n",
       "      <th>3</th>\n",
       "      <td>google, google, google, google, google, google, google, google, google</td>\n",
       "      <td>2162</td>\n",
       "    </tr>\n",
       "    <tr>\n",
       "      <th>4</th>\n",
       "      <td>restricted, restricted, restricted, restricted, restricted, restricted, restricted, restricted, restricted</td>\n",
       "      <td>644</td>\n",
       "    </tr>\n",
       "    <tr>\n",
       "      <th>5</th>\n",
       "      <td>glami, glami, glami, glami, glami, glami, glami, glami, glami</td>\n",
       "      <td>640</td>\n",
       "    </tr>\n",
       "    <tr>\n",
       "      <th>6</th>\n",
       "      <td>fb, fb, fb, fb, fb, fb, fb, fb, fb</td>\n",
       "      <td>451</td>\n",
       "    </tr>\n",
       "    <tr>\n",
       "      <th>7</th>\n",
       "      <td>googleadwords_int, googleadwords_int, googleadwords_int, googleadwords_int, googleadwords_int, googleadwords_int, googleadwords_int, googleadwords_int, organic</td>\n",
       "      <td>306</td>\n",
       "    </tr>\n",
       "    <tr>\n",
       "      <th>8</th>\n",
       "      <td>appnext_int, appnext_int, appnext_int, appnext_int, appnext_int, appnext_int, appnext_int, appnext_int, appnext_int</td>\n",
       "      <td>280</td>\n",
       "    </tr>\n",
       "    <tr>\n",
       "      <th>9</th>\n",
       "      <td>synerise, synerise, synerise, synerise, synerise, synerise, synerise, synerise, synerise</td>\n",
       "      <td>269</td>\n",
       "    </tr>\n",
       "  </tbody>\n",
       "</table>\n",
       "</div>"
      ],
      "text/plain": [
       "                                                                                                                                                                        path  count\n",
       "0  googleadwords_int, googleadwords_int, googleadwords_int, googleadwords_int, googleadwords_int, googleadwords_int, googleadwords_int, googleadwords_int, googleadwords_int  4325 \n",
       "1  facebook, facebook, facebook, facebook, facebook, facebook, facebook, facebook, facebook                                                                                   3684 \n",
       "2  modivo, modivo, modivo, modivo, modivo, modivo, modivo, modivo, modivo                                                                                                     3057 \n",
       "3  google, google, google, google, google, google, google, google, google                                                                                                     2162 \n",
       "4  restricted, restricted, restricted, restricted, restricted, restricted, restricted, restricted, restricted                                                                 644  \n",
       "5  glami, glami, glami, glami, glami, glami, glami, glami, glami                                                                                                              640  \n",
       "6  fb, fb, fb, fb, fb, fb, fb, fb, fb                                                                                                                                         451  \n",
       "7  googleadwords_int, googleadwords_int, googleadwords_int, googleadwords_int, googleadwords_int, googleadwords_int, googleadwords_int, googleadwords_int, organic            306  \n",
       "8  appnext_int, appnext_int, appnext_int, appnext_int, appnext_int, appnext_int, appnext_int, appnext_int, appnext_int                                                        280  \n",
       "9  synerise, synerise, synerise, synerise, synerise, synerise, synerise, synerise, synerise                                                                                   269  "
      ]
     },
     "execution_count": 17,
     "metadata": {},
     "output_type": "execute_result"
    }
   ],
   "source": [
    "print('Czechy')\n",
    "country = only_clicks[only_clicks['conversion_country'] == 'CZ']['path'].value_counts().head(10)\n",
    "country = pd.DataFrame(country).reset_index()\n",
    "country.columns = ['path','count']\n",
    "country"
   ]
  },
  {
   "cell_type": "code",
   "execution_count": 18,
   "metadata": {},
   "outputs": [
    {
     "name": "stdout",
     "output_type": "stream",
     "text": [
      "Ukraina\n"
     ]
    },
    {
     "data": {
      "text/html": [
       "<div>\n",
       "<style scoped>\n",
       "    .dataframe tbody tr th:only-of-type {\n",
       "        vertical-align: middle;\n",
       "    }\n",
       "\n",
       "    .dataframe tbody tr th {\n",
       "        vertical-align: top;\n",
       "    }\n",
       "\n",
       "    .dataframe thead th {\n",
       "        text-align: right;\n",
       "    }\n",
       "</style>\n",
       "<table border=\"1\" class=\"dataframe\">\n",
       "  <thead>\n",
       "    <tr style=\"text-align: right;\">\n",
       "      <th></th>\n",
       "      <th>path</th>\n",
       "      <th>count</th>\n",
       "    </tr>\n",
       "  </thead>\n",
       "  <tbody>\n",
       "    <tr>\n",
       "      <th>0</th>\n",
       "      <td>modivo, modivo, modivo, modivo, modivo, modivo, modivo, modivo, modivo</td>\n",
       "      <td>9480</td>\n",
       "    </tr>\n",
       "    <tr>\n",
       "      <th>1</th>\n",
       "      <td>google, google, google, google, google, google, google, google, google</td>\n",
       "      <td>2265</td>\n",
       "    </tr>\n",
       "    <tr>\n",
       "      <th>2</th>\n",
       "      <td>fb, fb, fb, fb, fb, fb, fb, fb, fb</td>\n",
       "      <td>2010</td>\n",
       "    </tr>\n",
       "    <tr>\n",
       "      <th>3</th>\n",
       "      <td>googleadwords_int, googleadwords_int, googleadwords_int, googleadwords_int, googleadwords_int, googleadwords_int, googleadwords_int, googleadwords_int, googleadwords_int</td>\n",
       "      <td>1635</td>\n",
       "    </tr>\n",
       "    <tr>\n",
       "      <th>4</th>\n",
       "      <td>ig, ig, ig, ig, ig, ig, ig, ig, ig</td>\n",
       "      <td>956</td>\n",
       "    </tr>\n",
       "    <tr>\n",
       "      <th>5</th>\n",
       "      <td>restricted, restricted, restricted, restricted, restricted, restricted, restricted, restricted, restricted</td>\n",
       "      <td>506</td>\n",
       "    </tr>\n",
       "    <tr>\n",
       "      <th>6</th>\n",
       "      <td>restricted, restricted, restricted, restricted, restricted, restricted, restricted, restricted, restricted, restricted, restricted, restricted, restricted, restricted, restricted, restricted, restricted</td>\n",
       "      <td>397</td>\n",
       "    </tr>\n",
       "    <tr>\n",
       "      <th>7</th>\n",
       "      <td>modivo, modivo, modivo, modivo, modivo, modivo, modivo, modivo, modivo, modivo, modivo, modivo, modivo, modivo, modivo, modivo, modivo</td>\n",
       "      <td>260</td>\n",
       "    </tr>\n",
       "    <tr>\n",
       "      <th>8</th>\n",
       "      <td>modivo, modivo, modivo</td>\n",
       "      <td>251</td>\n",
       "    </tr>\n",
       "    <tr>\n",
       "      <th>9</th>\n",
       "      <td>modivo, modivo, modivo, modivo</td>\n",
       "      <td>237</td>\n",
       "    </tr>\n",
       "  </tbody>\n",
       "</table>\n",
       "</div>"
      ],
      "text/plain": [
       "                                                                                                                                                                                                         path  count\n",
       "0  modivo, modivo, modivo, modivo, modivo, modivo, modivo, modivo, modivo                                                                                                                                      9480 \n",
       "1  google, google, google, google, google, google, google, google, google                                                                                                                                      2265 \n",
       "2  fb, fb, fb, fb, fb, fb, fb, fb, fb                                                                                                                                                                          2010 \n",
       "3  googleadwords_int, googleadwords_int, googleadwords_int, googleadwords_int, googleadwords_int, googleadwords_int, googleadwords_int, googleadwords_int, googleadwords_int                                   1635 \n",
       "4  ig, ig, ig, ig, ig, ig, ig, ig, ig                                                                                                                                                                          956  \n",
       "5  restricted, restricted, restricted, restricted, restricted, restricted, restricted, restricted, restricted                                                                                                  506  \n",
       "6  restricted, restricted, restricted, restricted, restricted, restricted, restricted, restricted, restricted, restricted, restricted, restricted, restricted, restricted, restricted, restricted, restricted  397  \n",
       "7  modivo, modivo, modivo, modivo, modivo, modivo, modivo, modivo, modivo, modivo, modivo, modivo, modivo, modivo, modivo, modivo, modivo                                                                      260  \n",
       "8  modivo, modivo, modivo                                                                                                                                                                                      251  \n",
       "9  modivo, modivo, modivo, modivo                                                                                                                                                                              237  "
      ]
     },
     "execution_count": 18,
     "metadata": {},
     "output_type": "execute_result"
    }
   ],
   "source": [
    "print('Ukraina')\n",
    "country = only_clicks[only_clicks['conversion_country'] == 'UA']['path'].value_counts().head(10)\n",
    "country = pd.DataFrame(country).reset_index()\n",
    "country.columns = ['path','count']\n",
    "country"
   ]
  },
  {
   "cell_type": "code",
   "execution_count": 19,
   "metadata": {},
   "outputs": [
    {
     "name": "stdout",
     "output_type": "stream",
     "text": [
      "Litwa\n"
     ]
    },
    {
     "data": {
      "text/html": [
       "<div>\n",
       "<style scoped>\n",
       "    .dataframe tbody tr th:only-of-type {\n",
       "        vertical-align: middle;\n",
       "    }\n",
       "\n",
       "    .dataframe tbody tr th {\n",
       "        vertical-align: top;\n",
       "    }\n",
       "\n",
       "    .dataframe thead th {\n",
       "        text-align: right;\n",
       "    }\n",
       "</style>\n",
       "<table border=\"1\" class=\"dataframe\">\n",
       "  <thead>\n",
       "    <tr style=\"text-align: right;\">\n",
       "      <th></th>\n",
       "      <th>path</th>\n",
       "      <th>count</th>\n",
       "    </tr>\n",
       "  </thead>\n",
       "  <tbody>\n",
       "    <tr>\n",
       "      <th>0</th>\n",
       "      <td>facebook, facebook, facebook, facebook, facebook, facebook, facebook, facebook, facebook</td>\n",
       "      <td>7004</td>\n",
       "    </tr>\n",
       "    <tr>\n",
       "      <th>1</th>\n",
       "      <td>googleadwords_int, googleadwords_int, googleadwords_int, googleadwords_int, googleadwords_int, googleadwords_int, googleadwords_int, googleadwords_int, googleadwords_int</td>\n",
       "      <td>2993</td>\n",
       "    </tr>\n",
       "    <tr>\n",
       "      <th>2</th>\n",
       "      <td>modivo, modivo, modivo, modivo, modivo, modivo, modivo, modivo, modivo</td>\n",
       "      <td>1070</td>\n",
       "    </tr>\n",
       "    <tr>\n",
       "      <th>3</th>\n",
       "      <td>restricted, restricted, restricted, restricted, restricted, restricted, restricted, restricted, restricted</td>\n",
       "      <td>741</td>\n",
       "    </tr>\n",
       "    <tr>\n",
       "      <th>4</th>\n",
       "      <td>glami, glami, glami, glami, glami, glami, glami, glami, glami</td>\n",
       "      <td>388</td>\n",
       "    </tr>\n",
       "    <tr>\n",
       "      <th>5</th>\n",
       "      <td>google, google, google, google, google, google, google, google, google</td>\n",
       "      <td>335</td>\n",
       "    </tr>\n",
       "    <tr>\n",
       "      <th>6</th>\n",
       "      <td>facebook, facebook, facebook, facebook, facebook</td>\n",
       "      <td>217</td>\n",
       "    </tr>\n",
       "    <tr>\n",
       "      <th>7</th>\n",
       "      <td>facebook, facebook, facebook, facebook</td>\n",
       "      <td>207</td>\n",
       "    </tr>\n",
       "    <tr>\n",
       "      <th>8</th>\n",
       "      <td>facebook, facebook, facebook, facebook, facebook, facebook, facebook</td>\n",
       "      <td>198</td>\n",
       "    </tr>\n",
       "    <tr>\n",
       "      <th>9</th>\n",
       "      <td>fb, fb, fb, fb, fb, fb, fb, fb, fb</td>\n",
       "      <td>188</td>\n",
       "    </tr>\n",
       "  </tbody>\n",
       "</table>\n",
       "</div>"
      ],
      "text/plain": [
       "                                                                                                                                                                        path  count\n",
       "0  facebook, facebook, facebook, facebook, facebook, facebook, facebook, facebook, facebook                                                                                   7004 \n",
       "1  googleadwords_int, googleadwords_int, googleadwords_int, googleadwords_int, googleadwords_int, googleadwords_int, googleadwords_int, googleadwords_int, googleadwords_int  2993 \n",
       "2  modivo, modivo, modivo, modivo, modivo, modivo, modivo, modivo, modivo                                                                                                     1070 \n",
       "3  restricted, restricted, restricted, restricted, restricted, restricted, restricted, restricted, restricted                                                                 741  \n",
       "4  glami, glami, glami, glami, glami, glami, glami, glami, glami                                                                                                              388  \n",
       "5  google, google, google, google, google, google, google, google, google                                                                                                     335  \n",
       "6  facebook, facebook, facebook, facebook, facebook                                                                                                                           217  \n",
       "7  facebook, facebook, facebook, facebook                                                                                                                                     207  \n",
       "8  facebook, facebook, facebook, facebook, facebook, facebook, facebook                                                                                                       198  \n",
       "9  fb, fb, fb, fb, fb, fb, fb, fb, fb                                                                                                                                         188  "
      ]
     },
     "execution_count": 19,
     "metadata": {},
     "output_type": "execute_result"
    }
   ],
   "source": [
    "print('Litwa')\n",
    "country = only_clicks[only_clicks['conversion_country'] == 'LT']['path'].value_counts().head(10)\n",
    "country = pd.DataFrame(country).reset_index()\n",
    "country.columns = ['path','count']\n",
    "country"
   ]
  },
  {
   "cell_type": "code",
   "execution_count": 20,
   "metadata": {},
   "outputs": [
    {
     "name": "stdout",
     "output_type": "stream",
     "text": [
      "Słowacja\n"
     ]
    },
    {
     "data": {
      "text/html": [
       "<div>\n",
       "<style scoped>\n",
       "    .dataframe tbody tr th:only-of-type {\n",
       "        vertical-align: middle;\n",
       "    }\n",
       "\n",
       "    .dataframe tbody tr th {\n",
       "        vertical-align: top;\n",
       "    }\n",
       "\n",
       "    .dataframe thead th {\n",
       "        text-align: right;\n",
       "    }\n",
       "</style>\n",
       "<table border=\"1\" class=\"dataframe\">\n",
       "  <thead>\n",
       "    <tr style=\"text-align: right;\">\n",
       "      <th></th>\n",
       "      <th>path</th>\n",
       "      <th>count</th>\n",
       "    </tr>\n",
       "  </thead>\n",
       "  <tbody>\n",
       "    <tr>\n",
       "      <th>0</th>\n",
       "      <td>facebook, facebook, facebook, facebook, facebook, facebook, facebook, facebook, facebook</td>\n",
       "      <td>4481</td>\n",
       "    </tr>\n",
       "    <tr>\n",
       "      <th>1</th>\n",
       "      <td>googleadwords_int, googleadwords_int, googleadwords_int, googleadwords_int, googleadwords_int, googleadwords_int, googleadwords_int, googleadwords_int, googleadwords_int</td>\n",
       "      <td>2783</td>\n",
       "    </tr>\n",
       "    <tr>\n",
       "      <th>2</th>\n",
       "      <td>modivo, modivo, modivo, modivo, modivo, modivo, modivo, modivo, modivo</td>\n",
       "      <td>1536</td>\n",
       "    </tr>\n",
       "    <tr>\n",
       "      <th>3</th>\n",
       "      <td>google, google, google, google, google, google, google, google, google</td>\n",
       "      <td>958</td>\n",
       "    </tr>\n",
       "    <tr>\n",
       "      <th>4</th>\n",
       "      <td>restricted, restricted, restricted, restricted, restricted, restricted, restricted, restricted, restricted</td>\n",
       "      <td>628</td>\n",
       "    </tr>\n",
       "    <tr>\n",
       "      <th>5</th>\n",
       "      <td>appnext_int, appnext_int, appnext_int, appnext_int, appnext_int, appnext_int, appnext_int, appnext_int, appnext_int</td>\n",
       "      <td>357</td>\n",
       "    </tr>\n",
       "    <tr>\n",
       "      <th>6</th>\n",
       "      <td>glami, glami, glami, glami, glami, glami, glami, glami, glami</td>\n",
       "      <td>337</td>\n",
       "    </tr>\n",
       "    <tr>\n",
       "      <th>7</th>\n",
       "      <td>synerise, synerise, synerise, synerise, synerise, synerise, synerise, synerise, synerise</td>\n",
       "      <td>152</td>\n",
       "    </tr>\n",
       "    <tr>\n",
       "      <th>8</th>\n",
       "      <td>-, -, -, -, -, -, -, -, -</td>\n",
       "      <td>147</td>\n",
       "    </tr>\n",
       "    <tr>\n",
       "      <th>9</th>\n",
       "      <td>googleadwords_int, googleadwords_int, googleadwords_int, googleadwords_int, googleadwords_int, googleadwords_int, googleadwords_int, googleadwords_int, organic</td>\n",
       "      <td>147</td>\n",
       "    </tr>\n",
       "  </tbody>\n",
       "</table>\n",
       "</div>"
      ],
      "text/plain": [
       "                                                                                                                                                                        path  count\n",
       "0  facebook, facebook, facebook, facebook, facebook, facebook, facebook, facebook, facebook                                                                                   4481 \n",
       "1  googleadwords_int, googleadwords_int, googleadwords_int, googleadwords_int, googleadwords_int, googleadwords_int, googleadwords_int, googleadwords_int, googleadwords_int  2783 \n",
       "2  modivo, modivo, modivo, modivo, modivo, modivo, modivo, modivo, modivo                                                                                                     1536 \n",
       "3  google, google, google, google, google, google, google, google, google                                                                                                     958  \n",
       "4  restricted, restricted, restricted, restricted, restricted, restricted, restricted, restricted, restricted                                                                 628  \n",
       "5  appnext_int, appnext_int, appnext_int, appnext_int, appnext_int, appnext_int, appnext_int, appnext_int, appnext_int                                                        357  \n",
       "6  glami, glami, glami, glami, glami, glami, glami, glami, glami                                                                                                              337  \n",
       "7  synerise, synerise, synerise, synerise, synerise, synerise, synerise, synerise, synerise                                                                                   152  \n",
       "8  -, -, -, -, -, -, -, -, -                                                                                                                                                  147  \n",
       "9  googleadwords_int, googleadwords_int, googleadwords_int, googleadwords_int, googleadwords_int, googleadwords_int, googleadwords_int, googleadwords_int, organic            147  "
      ]
     },
     "execution_count": 20,
     "metadata": {},
     "output_type": "execute_result"
    }
   ],
   "source": [
    "print('Słowacja')\n",
    "country = only_clicks[only_clicks['conversion_country'] == 'SK']['path'].value_counts().head(10)\n",
    "country = pd.DataFrame(country).reset_index()\n",
    "country.columns = ['path','count']\n",
    "country"
   ]
  },
  {
   "cell_type": "code",
   "execution_count": 21,
   "metadata": {},
   "outputs": [
    {
     "name": "stdout",
     "output_type": "stream",
     "text": [
      "Niemcy\n"
     ]
    },
    {
     "data": {
      "text/html": [
       "<div>\n",
       "<style scoped>\n",
       "    .dataframe tbody tr th:only-of-type {\n",
       "        vertical-align: middle;\n",
       "    }\n",
       "\n",
       "    .dataframe tbody tr th {\n",
       "        vertical-align: top;\n",
       "    }\n",
       "\n",
       "    .dataframe thead th {\n",
       "        text-align: right;\n",
       "    }\n",
       "</style>\n",
       "<table border=\"1\" class=\"dataframe\">\n",
       "  <thead>\n",
       "    <tr style=\"text-align: right;\">\n",
       "      <th></th>\n",
       "      <th>path</th>\n",
       "      <th>count</th>\n",
       "    </tr>\n",
       "  </thead>\n",
       "  <tbody>\n",
       "    <tr>\n",
       "      <th>0</th>\n",
       "      <td>google, google, google, google, google, google, google, google, google</td>\n",
       "      <td>2997</td>\n",
       "    </tr>\n",
       "    <tr>\n",
       "      <th>1</th>\n",
       "      <td>facebook, facebook, facebook, facebook, facebook, facebook, facebook, facebook, facebook</td>\n",
       "      <td>2672</td>\n",
       "    </tr>\n",
       "    <tr>\n",
       "      <th>2</th>\n",
       "      <td>modivo, modivo, modivo, modivo, modivo, modivo, modivo, modivo, modivo</td>\n",
       "      <td>2025</td>\n",
       "    </tr>\n",
       "    <tr>\n",
       "      <th>3</th>\n",
       "      <td>idealo, idealo, idealo, idealo, idealo, idealo, idealo, idealo, idealo</td>\n",
       "      <td>812</td>\n",
       "    </tr>\n",
       "    <tr>\n",
       "      <th>4</th>\n",
       "      <td>restricted, restricted, restricted, restricted, restricted, restricted, restricted, restricted, restricted</td>\n",
       "      <td>783</td>\n",
       "    </tr>\n",
       "    <tr>\n",
       "      <th>5</th>\n",
       "      <td>googleadwords_int, googleadwords_int, googleadwords_int, googleadwords_int, googleadwords_int, googleadwords_int, googleadwords_int, googleadwords_int, googleadwords_int</td>\n",
       "      <td>340</td>\n",
       "    </tr>\n",
       "    <tr>\n",
       "      <th>6</th>\n",
       "      <td>affiliatewindow_int, affiliatewindow_int, affiliatewindow_int, affiliatewindow_int, affiliatewindow_int, affiliatewindow_int, affiliatewindow_int, affiliatewindow_int, affiliatewindow_int</td>\n",
       "      <td>300</td>\n",
       "    </tr>\n",
       "    <tr>\n",
       "      <th>7</th>\n",
       "      <td>synerise, synerise, synerise, synerise, synerise, synerise, synerise, synerise, synerise</td>\n",
       "      <td>212</td>\n",
       "    </tr>\n",
       "    <tr>\n",
       "      <th>8</th>\n",
       "      <td>facebook, facebook, facebook, facebook, facebook</td>\n",
       "      <td>150</td>\n",
       "    </tr>\n",
       "    <tr>\n",
       "      <th>9</th>\n",
       "      <td>google, google, google, google, google, google, google, google, google, google, google, google, google, google, google, google, google</td>\n",
       "      <td>120</td>\n",
       "    </tr>\n",
       "  </tbody>\n",
       "</table>\n",
       "</div>"
      ],
      "text/plain": [
       "                                                                                                                                                                                          path  count\n",
       "0  google, google, google, google, google, google, google, google, google                                                                                                                       2997 \n",
       "1  facebook, facebook, facebook, facebook, facebook, facebook, facebook, facebook, facebook                                                                                                     2672 \n",
       "2  modivo, modivo, modivo, modivo, modivo, modivo, modivo, modivo, modivo                                                                                                                       2025 \n",
       "3  idealo, idealo, idealo, idealo, idealo, idealo, idealo, idealo, idealo                                                                                                                       812  \n",
       "4  restricted, restricted, restricted, restricted, restricted, restricted, restricted, restricted, restricted                                                                                   783  \n",
       "5  googleadwords_int, googleadwords_int, googleadwords_int, googleadwords_int, googleadwords_int, googleadwords_int, googleadwords_int, googleadwords_int, googleadwords_int                    340  \n",
       "6  affiliatewindow_int, affiliatewindow_int, affiliatewindow_int, affiliatewindow_int, affiliatewindow_int, affiliatewindow_int, affiliatewindow_int, affiliatewindow_int, affiliatewindow_int  300  \n",
       "7  synerise, synerise, synerise, synerise, synerise, synerise, synerise, synerise, synerise                                                                                                     212  \n",
       "8  facebook, facebook, facebook, facebook, facebook                                                                                                                                             150  \n",
       "9  google, google, google, google, google, google, google, google, google, google, google, google, google, google, google, google, google                                                       120  "
      ]
     },
     "execution_count": 21,
     "metadata": {},
     "output_type": "execute_result"
    }
   ],
   "source": [
    "print('Niemcy')\n",
    "country = only_clicks[only_clicks['conversion_country'] == 'DE']['path'].value_counts().head(10)\n",
    "country = pd.DataFrame(country).reset_index()\n",
    "country.columns = ['path','count']\n",
    "country"
   ]
  },
  {
   "cell_type": "code",
   "execution_count": 22,
   "metadata": {},
   "outputs": [
    {
     "name": "stdout",
     "output_type": "stream",
     "text": [
      "Francja\n"
     ]
    },
    {
     "data": {
      "text/html": [
       "<div>\n",
       "<style scoped>\n",
       "    .dataframe tbody tr th:only-of-type {\n",
       "        vertical-align: middle;\n",
       "    }\n",
       "\n",
       "    .dataframe tbody tr th {\n",
       "        vertical-align: top;\n",
       "    }\n",
       "\n",
       "    .dataframe thead th {\n",
       "        text-align: right;\n",
       "    }\n",
       "</style>\n",
       "<table border=\"1\" class=\"dataframe\">\n",
       "  <thead>\n",
       "    <tr style=\"text-align: right;\">\n",
       "      <th></th>\n",
       "      <th>path</th>\n",
       "      <th>count</th>\n",
       "    </tr>\n",
       "  </thead>\n",
       "  <tbody>\n",
       "    <tr>\n",
       "      <th>0</th>\n",
       "      <td>facebook, facebook, facebook, facebook, facebook, facebook, facebook, facebook, facebook</td>\n",
       "      <td>3980</td>\n",
       "    </tr>\n",
       "    <tr>\n",
       "      <th>1</th>\n",
       "      <td>modivo, modivo, modivo, modivo, modivo, modivo, modivo, modivo, modivo</td>\n",
       "      <td>727</td>\n",
       "    </tr>\n",
       "    <tr>\n",
       "      <th>2</th>\n",
       "      <td>google, google, google, google, google, google, google, google, google</td>\n",
       "      <td>648</td>\n",
       "    </tr>\n",
       "    <tr>\n",
       "      <th>3</th>\n",
       "      <td>restricted, restricted, restricted, restricted, restricted, restricted, restricted, restricted, restricted</td>\n",
       "      <td>298</td>\n",
       "    </tr>\n",
       "    <tr>\n",
       "      <th>4</th>\n",
       "      <td>googleadwords_int, googleadwords_int, googleadwords_int, googleadwords_int, googleadwords_int, googleadwords_int, googleadwords_int, googleadwords_int, googleadwords_int</td>\n",
       "      <td>228</td>\n",
       "    </tr>\n",
       "    <tr>\n",
       "      <th>5</th>\n",
       "      <td>facebook, facebook, facebook, facebook, facebook, facebook, facebook, facebook</td>\n",
       "      <td>95</td>\n",
       "    </tr>\n",
       "    <tr>\n",
       "      <th>6</th>\n",
       "      <td>facebook, facebook, facebook, facebook, facebook</td>\n",
       "      <td>91</td>\n",
       "    </tr>\n",
       "    <tr>\n",
       "      <th>7</th>\n",
       "      <td>facebook, facebook, facebook, facebook, facebook, facebook</td>\n",
       "      <td>89</td>\n",
       "    </tr>\n",
       "    <tr>\n",
       "      <th>8</th>\n",
       "      <td>facebook, facebook, facebook, facebook, facebook, facebook, facebook</td>\n",
       "      <td>86</td>\n",
       "    </tr>\n",
       "    <tr>\n",
       "      <th>9</th>\n",
       "      <td>facebook, facebook, facebook, facebook</td>\n",
       "      <td>85</td>\n",
       "    </tr>\n",
       "  </tbody>\n",
       "</table>\n",
       "</div>"
      ],
      "text/plain": [
       "                                                                                                                                                                        path  count\n",
       "0  facebook, facebook, facebook, facebook, facebook, facebook, facebook, facebook, facebook                                                                                   3980 \n",
       "1  modivo, modivo, modivo, modivo, modivo, modivo, modivo, modivo, modivo                                                                                                     727  \n",
       "2  google, google, google, google, google, google, google, google, google                                                                                                     648  \n",
       "3  restricted, restricted, restricted, restricted, restricted, restricted, restricted, restricted, restricted                                                                 298  \n",
       "4  googleadwords_int, googleadwords_int, googleadwords_int, googleadwords_int, googleadwords_int, googleadwords_int, googleadwords_int, googleadwords_int, googleadwords_int  228  \n",
       "5  facebook, facebook, facebook, facebook, facebook, facebook, facebook, facebook                                                                                             95   \n",
       "6  facebook, facebook, facebook, facebook, facebook                                                                                                                           91   \n",
       "7  facebook, facebook, facebook, facebook, facebook, facebook                                                                                                                 89   \n",
       "8  facebook, facebook, facebook, facebook, facebook, facebook, facebook                                                                                                       86   \n",
       "9  facebook, facebook, facebook, facebook                                                                                                                                     85   "
      ]
     },
     "execution_count": 22,
     "metadata": {},
     "output_type": "execute_result"
    }
   ],
   "source": [
    "print('Francja')\n",
    "country = only_clicks[only_clicks['conversion_country'] == 'FR']['path'].value_counts().head(10)\n",
    "country = pd.DataFrame(country).reset_index()\n",
    "country.columns = ['path','count']\n",
    "country"
   ]
  },
  {
   "cell_type": "code",
   "execution_count": 23,
   "metadata": {},
   "outputs": [],
   "source": [
    "only_clicks['steps'] = only_clicks['path'].str.count('\\w+')"
   ]
  },
  {
   "cell_type": "code",
   "execution_count": 24,
   "metadata": {},
   "outputs": [
    {
     "data": {
      "image/png": "[encoded data removed]",
      "text/plain": [
       "<Figure size 1000x1000 with 4 Axes>"
      ]
     },
     "metadata": {},
     "output_type": "display_data"
    },
    {
     "data": {
      "image/png": "[encoded data removed]",
      "text/plain": [
       "<Figure size 1000x1000 with 5 Axes>"
      ]
     },
     "metadata": {},
     "output_type": "display_data"
    },
    {
     "data": {
      "image/png": "[encoded data removed]",
      "text/plain": [
       "<Figure size 1000x1000 with 5 Axes>"
      ]
     },
     "metadata": {},
     "output_type": "display_data"
    }
   ],
   "source": [
    "top_countries = ['PL','RO','BG', 'GR']\n",
    "top_copuntries = only_clicks[only_clicks.conversion_country.isin(top_countries)]\n",
    "\n",
    "second_tier_countries = ['HU','IT','HR','CZ']\n",
    "second_tier_countries = only_clicks[only_clicks.conversion_country.isin(second_tier_countries)]\n",
    "\n",
    "other_countries = ['UA', 'LT','SK','DE','FR']\n",
    "other_countries = only_clicks[only_clicks.conversion_country.isin(other_countries)]\n",
    "\n",
    "ax = top_copuntries.plot.hist(column=['steps'], by='conversion_country', figsize=(10,10), rwidth=0.2)\n",
    "ax2 = other_countries.plot.hist(column=['steps'], by='conversion_country', figsize=(10,10), rwidth=0.2)\n",
    "ax3 = ax2 = other_countries.plot.hist(column=['steps'], by='conversion_country', figsize=(10,10), rwidth=0.2)"
   ]
  },
  {
   "cell_type": "markdown",
   "metadata": {},
   "source": [
    "Rynki Polska, Rumunia i Grecja wyróżniają się na tle reszty. Tutaj ludzie potrzebują zdecydowanie mniej kontaktów do zakupu. Hipotezą jest większa obecność i znajomość marki."
   ]
  },
  {
   "cell_type": "markdown",
   "metadata": {},
   "source": [
    "___________________________________________________________________________________________________________________________________________"
   ]
  },
  {
   "cell_type": "markdown",
   "metadata": {},
   "source": [
    "Jaka różnica w ścieżkach pomiędzy platformami?"
   ]
  },
  {
   "cell_type": "code",
   "execution_count": 25,
   "metadata": {},
   "outputs": [
    {
     "data": {
      "text/plain": [
       "android    618828\n",
       "ios        175629\n",
       "Name: conversion_platform, dtype: int64"
      ]
     },
     "execution_count": 25,
     "metadata": {},
     "output_type": "execute_result"
    }
   ],
   "source": [
    "only_clicks['conversion_platform'].value_counts()"
   ]
  },
  {
   "cell_type": "code",
   "execution_count": 26,
   "metadata": {},
   "outputs": [
    {
     "name": "stdout",
     "output_type": "stream",
     "text": [
      "Android\n"
     ]
    },
    {
     "data": {
      "text/html": [
       "<div>\n",
       "<style scoped>\n",
       "    .dataframe tbody tr th:only-of-type {\n",
       "        vertical-align: middle;\n",
       "    }\n",
       "\n",
       "    .dataframe tbody tr th {\n",
       "        vertical-align: top;\n",
       "    }\n",
       "\n",
       "    .dataframe thead th {\n",
       "        text-align: right;\n",
       "    }\n",
       "</style>\n",
       "<table border=\"1\" class=\"dataframe\">\n",
       "  <thead>\n",
       "    <tr style=\"text-align: right;\">\n",
       "      <th></th>\n",
       "      <th>path</th>\n",
       "      <th>count</th>\n",
       "    </tr>\n",
       "  </thead>\n",
       "  <tbody>\n",
       "    <tr>\n",
       "      <th>0</th>\n",
       "      <td>facebook, facebook, facebook, facebook, facebook, facebook, facebook, facebook, facebook</td>\n",
       "      <td>247528</td>\n",
       "    </tr>\n",
       "    <tr>\n",
       "      <th>1</th>\n",
       "      <td>googleadwords_int, googleadwords_int, googleadwords_int, googleadwords_int, googleadwords_int, googleadwords_int, googleadwords_int, googleadwords_int, googleadwords_int</td>\n",
       "      <td>59319</td>\n",
       "    </tr>\n",
       "    <tr>\n",
       "      <th>2</th>\n",
       "      <td>restricted, restricted, restricted, restricted, restricted, restricted, restricted, restricted, restricted</td>\n",
       "      <td>27595</td>\n",
       "    </tr>\n",
       "    <tr>\n",
       "      <th>3</th>\n",
       "      <td>modivo, modivo, modivo, modivo, modivo, modivo, modivo, modivo, modivo</td>\n",
       "      <td>24056</td>\n",
       "    </tr>\n",
       "    <tr>\n",
       "      <th>4</th>\n",
       "      <td>google, google, google, google, google, google, google, google, google</td>\n",
       "      <td>14464</td>\n",
       "    </tr>\n",
       "    <tr>\n",
       "      <th>5</th>\n",
       "      <td>facebook, facebook, facebook, facebook, facebook</td>\n",
       "      <td>9114</td>\n",
       "    </tr>\n",
       "    <tr>\n",
       "      <th>6</th>\n",
       "      <td>facebook, facebook, facebook, facebook</td>\n",
       "      <td>8980</td>\n",
       "    </tr>\n",
       "    <tr>\n",
       "      <th>7</th>\n",
       "      <td>facebook, facebook, facebook, facebook, facebook, facebook</td>\n",
       "      <td>8633</td>\n",
       "    </tr>\n",
       "    <tr>\n",
       "      <th>8</th>\n",
       "      <td>facebook, facebook, facebook, facebook, facebook, facebook, facebook</td>\n",
       "      <td>8464</td>\n",
       "    </tr>\n",
       "    <tr>\n",
       "      <th>9</th>\n",
       "      <td>facebook, facebook, facebook</td>\n",
       "      <td>8317</td>\n",
       "    </tr>\n",
       "  </tbody>\n",
       "</table>\n",
       "</div>"
      ],
      "text/plain": [
       "                                                                                                                                                                        path   count\n",
       "0  facebook, facebook, facebook, facebook, facebook, facebook, facebook, facebook, facebook                                                                                   247528\n",
       "1  googleadwords_int, googleadwords_int, googleadwords_int, googleadwords_int, googleadwords_int, googleadwords_int, googleadwords_int, googleadwords_int, googleadwords_int  59319 \n",
       "2  restricted, restricted, restricted, restricted, restricted, restricted, restricted, restricted, restricted                                                                 27595 \n",
       "3  modivo, modivo, modivo, modivo, modivo, modivo, modivo, modivo, modivo                                                                                                     24056 \n",
       "4  google, google, google, google, google, google, google, google, google                                                                                                     14464 \n",
       "5  facebook, facebook, facebook, facebook, facebook                                                                                                                           9114  \n",
       "6  facebook, facebook, facebook, facebook                                                                                                                                     8980  \n",
       "7  facebook, facebook, facebook, facebook, facebook, facebook                                                                                                                 8633  \n",
       "8  facebook, facebook, facebook, facebook, facebook, facebook, facebook                                                                                                       8464  \n",
       "9  facebook, facebook, facebook                                                                                                                                               8317  "
      ]
     },
     "execution_count": 26,
     "metadata": {},
     "output_type": "execute_result"
    }
   ],
   "source": [
    "print('Android')\n",
    "platform = only_clicks[only_clicks['conversion_platform'] == 'android']['path'].value_counts().head(10)\n",
    "platform = pd.DataFrame(platform).reset_index()\n",
    "platform.columns = ['path','count']\n",
    "platform"
   ]
  },
  {
   "cell_type": "code",
   "execution_count": 27,
   "metadata": {},
   "outputs": [
    {
     "name": "stdout",
     "output_type": "stream",
     "text": [
      "iOS\n"
     ]
    },
    {
     "data": {
      "text/html": [
       "<div>\n",
       "<style scoped>\n",
       "    .dataframe tbody tr th:only-of-type {\n",
       "        vertical-align: middle;\n",
       "    }\n",
       "\n",
       "    .dataframe tbody tr th {\n",
       "        vertical-align: top;\n",
       "    }\n",
       "\n",
       "    .dataframe thead th {\n",
       "        text-align: right;\n",
       "    }\n",
       "</style>\n",
       "<table border=\"1\" class=\"dataframe\">\n",
       "  <thead>\n",
       "    <tr style=\"text-align: right;\">\n",
       "      <th></th>\n",
       "      <th>path</th>\n",
       "      <th>count</th>\n",
       "    </tr>\n",
       "  </thead>\n",
       "  <tbody>\n",
       "    <tr>\n",
       "      <th>0</th>\n",
       "      <td>modivo, modivo, modivo, modivo, modivo, modivo, modivo, modivo, modivo</td>\n",
       "      <td>26428</td>\n",
       "    </tr>\n",
       "    <tr>\n",
       "      <th>1</th>\n",
       "      <td>google, google, google, google, google, google, google, google, google</td>\n",
       "      <td>23589</td>\n",
       "    </tr>\n",
       "    <tr>\n",
       "      <th>2</th>\n",
       "      <td>restricted, restricted, restricted, restricted, restricted, restricted, restricted, restricted, restricted</td>\n",
       "      <td>9436</td>\n",
       "    </tr>\n",
       "    <tr>\n",
       "      <th>3</th>\n",
       "      <td>fb, fb, fb, fb, fb, fb, fb, fb, fb</td>\n",
       "      <td>5685</td>\n",
       "    </tr>\n",
       "    <tr>\n",
       "      <th>4</th>\n",
       "      <td>google, google, google, google, google, google, google, google, google, google, google, google, google, google, google, google, google</td>\n",
       "      <td>3258</td>\n",
       "    </tr>\n",
       "    <tr>\n",
       "      <th>5</th>\n",
       "      <td>ig, ig, ig, ig, ig, ig, ig, ig, ig</td>\n",
       "      <td>3226</td>\n",
       "    </tr>\n",
       "    <tr>\n",
       "      <th>6</th>\n",
       "      <td>restricted, restricted, restricted, restricted, restricted, restricted, restricted, restricted, restricted, restricted, restricted, restricted, restricted, restricted, restricted, restricted, restricted</td>\n",
       "      <td>2862</td>\n",
       "    </tr>\n",
       "    <tr>\n",
       "      <th>7</th>\n",
       "      <td>googleadwords_int, googleadwords_int, googleadwords_int, googleadwords_int, googleadwords_int, googleadwords_int, googleadwords_int, googleadwords_int, googleadwords_int</td>\n",
       "      <td>2714</td>\n",
       "    </tr>\n",
       "    <tr>\n",
       "      <th>8</th>\n",
       "      <td>synerise, synerise, synerise, synerise, synerise, synerise, synerise, synerise, synerise</td>\n",
       "      <td>2685</td>\n",
       "    </tr>\n",
       "    <tr>\n",
       "      <th>9</th>\n",
       "      <td>Apple Search Ads, Apple Search Ads, Apple Search Ads, Apple Search Ads, Apple Search Ads, Apple Search Ads, Apple Search Ads, Apple Search Ads, Apple Search Ads</td>\n",
       "      <td>2306</td>\n",
       "    </tr>\n",
       "  </tbody>\n",
       "</table>\n",
       "</div>"
      ],
      "text/plain": [
       "                                                                                                                                                                                                         path  count\n",
       "0  modivo, modivo, modivo, modivo, modivo, modivo, modivo, modivo, modivo                                                                                                                                      26428\n",
       "1  google, google, google, google, google, google, google, google, google                                                                                                                                      23589\n",
       "2  restricted, restricted, restricted, restricted, restricted, restricted, restricted, restricted, restricted                                                                                                  9436 \n",
       "3  fb, fb, fb, fb, fb, fb, fb, fb, fb                                                                                                                                                                          5685 \n",
       "4  google, google, google, google, google, google, google, google, google, google, google, google, google, google, google, google, google                                                                      3258 \n",
       "5  ig, ig, ig, ig, ig, ig, ig, ig, ig                                                                                                                                                                          3226 \n",
       "6  restricted, restricted, restricted, restricted, restricted, restricted, restricted, restricted, restricted, restricted, restricted, restricted, restricted, restricted, restricted, restricted, restricted  2862 \n",
       "7  googleadwords_int, googleadwords_int, googleadwords_int, googleadwords_int, googleadwords_int, googleadwords_int, googleadwords_int, googleadwords_int, googleadwords_int                                   2714 \n",
       "8  synerise, synerise, synerise, synerise, synerise, synerise, synerise, synerise, synerise                                                                                                                    2685 \n",
       "9  Apple Search Ads, Apple Search Ads, Apple Search Ads, Apple Search Ads, Apple Search Ads, Apple Search Ads, Apple Search Ads, Apple Search Ads, Apple Search Ads                                            2306 "
      ]
     },
     "execution_count": 27,
     "metadata": {},
     "output_type": "execute_result"
    }
   ],
   "source": [
    "print('iOS')\n",
    "platform = only_clicks[only_clicks['conversion_platform'] == 'ios']['path'].value_counts().head(10)\n",
    "platform = pd.DataFrame(platform).reset_index()\n",
    "platform.columns = ['path','count']\n",
    "platform"
   ]
  },
  {
   "cell_type": "code",
   "execution_count": 28,
   "metadata": {},
   "outputs": [
    {
     "data": {
      "image/png": "[encoded data removed]",
      "text/plain": [
       "<Figure size 1000x1000 with 2 Axes>"
      ]
     },
     "metadata": {},
     "output_type": "display_data"
    }
   ],
   "source": [
    "platforms = ['android','ios']\n",
    "platforms = only_clicks[only_clicks.conversion_platform.isin(platforms)]\n",
    "ax = platforms.plot.hist(column=['steps'], by='conversion_platform', figsize=(10,10), rwidth=0.2)"
   ]
  },
  {
   "cell_type": "code",
   "execution_count": 29,
   "metadata": {},
   "outputs": [],
   "source": [
    "#odrzucenie odstajacych\n",
    "only_clicks = only_clicks[only_clicks['steps'] < 100]\n",
    "android = only_clicks[only_clicks['conversion_platform'] == 'android']\n",
    "ios = only_clicks[only_clicks['conversion_platform'] == 'ios']"
   ]
  },
  {
   "cell_type": "code",
   "execution_count": 30,
   "metadata": {},
   "outputs": [
    {
     "name": "stdout",
     "output_type": "stream",
     "text": [
      "Android:\n",
      "mean : 12.331849883974222\n",
      "median : 9.0\n",
      "iOS:\n",
      "mean : 16.591814423832464\n",
      "median : 9.0\n"
     ]
    }
   ],
   "source": [
    "print('Android:')\n",
    "print('mean :', android['steps'].mean())\n",
    "print('median :', android['steps'].median())\n",
    "\n",
    "print('iOS:')\n",
    "print('mean :', ios['steps'].mean())\n",
    "print('median :', ios['steps'].median())"
   ]
  },
  {
   "cell_type": "code",
   "execution_count": 31,
   "metadata": {},
   "outputs": [
    {
     "data": {
      "text/plain": [
       "9     67.5%\n",
       "17    5.5% \n",
       "5     2.6% \n",
       "7     2.6% \n",
       "4     2.4% \n",
       "6     2.4% \n",
       "25    2.3% \n",
       "3     2.3% \n",
       "8     2.3% \n",
       "81    1.7% \n",
       "2     1.6% \n",
       "Name: steps, dtype: object"
      ]
     },
     "execution_count": 31,
     "metadata": {},
     "output_type": "execute_result"
    }
   ],
   "source": [
    "android['steps'].value_counts(normalize=True)[:11].mul(100).round(1).astype(str) + '%'"
   ]
  },
  {
   "cell_type": "code",
   "execution_count": 32,
   "metadata": {},
   "outputs": [
    {
     "data": {
      "text/plain": [
       "9     49.1%\n",
       "17    10.0%\n",
       "25    5.8% \n",
       "33    3.3% \n",
       "7     2.4% \n",
       "81    2.3% \n",
       "41    2.2% \n",
       "5     2.2% \n",
       "4     2.1% \n",
       "3     2.0% \n",
       "8     1.9% \n",
       "Name: steps, dtype: object"
      ]
     },
     "execution_count": 32,
     "metadata": {},
     "output_type": "execute_result"
    }
   ],
   "source": [
    "ios['steps'].value_counts(normalize=True)[:11].mul(100).round(1).astype(str) + '%'"
   ]
  },
  {
   "cell_type": "markdown",
   "metadata": {},
   "source": [
    "Ścieżka na ios jest nieco dłuższa, niż na androidzie (średnio o 4 kontakty). Może być to jednak związane z naturą źródła i jego współczynnikiem konwersji, na androidzie dominuje facebook (który odpowiada za ponad 60% ścieżek konwersji)."
   ]
  },
  {
   "cell_type": "markdown",
   "metadata": {},
   "source": [
    "_____________________________________________________________________________________________________________________________________"
   ]
  },
  {
   "cell_type": "markdown",
   "metadata": {},
   "source": [
    "Ile dni przechodzi od install to purchase? Rozłożyć czasowo."
   ]
  },
  {
   "cell_type": "code",
   "execution_count": 33,
   "metadata": {},
   "outputs": [],
   "source": [
    "query = \"SELECT appsflyer_id, conversion_time, conversion_name, touchpoint_time, touchpoint_type  FROM `elevated-honor-235814.mkunicki.Conversion path appsflyer 09-22 - 15-11-22`\"\n",
    "\n",
    "df2 = pd.read_gbq(query, project_id=eobuwie_project_id, dialect='standard',credentials=credentials)"
   ]
  },
  {
   "cell_type": "code",
   "execution_count": 34,
   "metadata": {},
   "outputs": [],
   "source": [
    "purchases = df2[df2.conversion_name == 'af_purchase'].reset_index()\n",
    "purchases.drop(['index','conversion_name','touchpoint_time','touchpoint_type'], inplace=True, axis=1)\n",
    "purchases = purchases.rename(columns={'conversion_time' : 'purchase_time'})\n",
    "\n",
    "installs = df2[df2.conversion_name == 'install'].reset_index()\n",
    "installs.drop(['index','conversion_name','touchpoint_time','touchpoint_type'], inplace=True, axis=1)\n",
    "installs = installs.rename(columns={'conversion_time' : 'install_time'})"
   ]
  },
  {
   "cell_type": "code",
   "execution_count": 35,
   "metadata": {},
   "outputs": [],
   "source": [
    "appsflyer = pd.merge(installs,purchases, on='appsflyer_id')"
   ]
  },
  {
   "cell_type": "code",
   "execution_count": 36,
   "metadata": {},
   "outputs": [],
   "source": [
    "purchase_day = []\n",
    "for i in appsflyer['purchase_time']:\n",
    "    day = i.split(' ')[0]\n",
    "    day = datetime.strptime(day,'%Y-%m-%d').date()\n",
    "    purchase_day.append(day)\n",
    "\n",
    "appsflyer['purchase_day'] = purchase_day"
   ]
  },
  {
   "cell_type": "code",
   "execution_count": 37,
   "metadata": {},
   "outputs": [],
   "source": [
    "install_day = []\n",
    "for i in appsflyer['install_time']:\n",
    "    day = i.split(' ')[0]\n",
    "    day = datetime.strptime(day,'%Y-%m-%d').date()\n",
    "    install_day.append(day)\n",
    "\n",
    "appsflyer['install_day'] = install_day"
   ]
  },
  {
   "cell_type": "code",
   "execution_count": 38,
   "metadata": {},
   "outputs": [],
   "source": [
    "appsflyer['day_difference'] = appsflyer['purchase_day'] - appsflyer['install_day']\n",
    "appsflyer['day_difference'] = appsflyer['day_difference'].dt.days\n",
    "appsflyer_u = appsflyer.drop_duplicates(keep='first')"
   ]
  },
  {
   "cell_type": "code",
   "execution_count": 39,
   "metadata": {},
   "outputs": [
    {
     "data": {
      "text/plain": [
       "<AxesSubplot:>"
      ]
     },
     "execution_count": 39,
     "metadata": {},
     "output_type": "execute_result"
    },
    {
     "data": {
      "image/png": "[encoded data removed]",
      "text/plain": [
       "<Figure size 640x480 with 1 Axes>"
      ]
     },
     "metadata": {},
     "output_type": "display_data"
    }
   ],
   "source": [
    "plt.figure()\n",
    "appsflyer_u['day_difference'].value_counts()[:11].plot(kind='bar')"
   ]
  },
  {
   "cell_type": "code",
   "execution_count": 40,
   "metadata": {},
   "outputs": [
    {
     "data": {
      "text/plain": [
       "0     34717\n",
       "1     6823 \n",
       "2     3050 \n",
       "3     2230 \n",
       "4     1828 \n",
       "5     1611 \n",
       "6     1368 \n",
       "7     1266 \n",
       "8     1137 \n",
       "9     862  \n",
       "10    842  \n",
       "Name: day_difference, dtype: int64"
      ]
     },
     "execution_count": 40,
     "metadata": {},
     "output_type": "execute_result"
    }
   ],
   "source": [
    "appsflyer_u['day_difference'].value_counts()[:11]"
   ]
  },
  {
   "cell_type": "code",
   "execution_count": 41,
   "metadata": {},
   "outputs": [
    {
     "data": {
      "text/plain": [
       "0     48.0%\n",
       "1     9.4% \n",
       "2     4.2% \n",
       "3     3.1% \n",
       "4     2.5% \n",
       "5     2.2% \n",
       "6     1.9% \n",
       "7     1.7% \n",
       "8     1.6% \n",
       "9     1.2% \n",
       "10    1.2% \n",
       "Name: day_difference, dtype: object"
      ]
     },
     "execution_count": 41,
     "metadata": {},
     "output_type": "execute_result"
    }
   ],
   "source": [
    "appsflyer_u['day_difference'].value_counts(normalize=True)[:11].mul(100).round(1).astype(str) + '%'"
   ]
  },
  {
   "cell_type": "markdown",
   "metadata": {},
   "source": [
    "48% użytkowników robi zakup tego samego dnia, którego następuje instalacja, a 65.7% użytkowników w ciągu pierwszych 3 dni. Ilość użytkowników proporcjonalnie spada każdego kolejnego dnia i ma długi ogon (pojedyńcze jednostki po nawet 80 dniach)."
   ]
  },
  {
   "cell_type": "markdown",
   "metadata": {},
   "source": [
    "_____________________________________________________________________________________________________________________________________"
   ]
  },
  {
   "cell_type": "markdown",
   "metadata": {},
   "source": [
    "Ile kontaktów od wejścia + install do zakupu? wejścia do zakupu?"
   ]
  },
  {
   "cell_type": "code",
   "execution_count": 42,
   "metadata": {},
   "outputs": [],
   "source": [
    "purchases = df2[df2.conversion_name == 'af_purchase'].reset_index()\n",
    "purchase_steps = pd.DataFrame(purchases.groupby('appsflyer_id').count().reset_index())\n",
    "purchase_steps = purchase_steps[['appsflyer_id','index']]\n",
    "purchase_steps = purchase_steps.rename(columns={'index' : 'purchase_steps'})\n",
    "#odrzucenie pojedynczych odstajacych wysokich wyników\n",
    "purchase_steps = purchase_steps[purchase_steps['purchase_steps'] < 100]"
   ]
  },
  {
   "cell_type": "code",
   "execution_count": 43,
   "metadata": {},
   "outputs": [
    {
     "name": "stdout",
     "output_type": "stream",
     "text": [
      "Od poczatku do zakupu:\n",
      "mean : 24.578184738955823\n",
      "median : 16.0\n"
     ]
    }
   ],
   "source": [
    "print('Od poczatku do zakupu:')\n",
    "print('mean :', purchase_steps['purchase_steps'].mean())\n",
    "print('median :', purchase_steps['purchase_steps'].median())"
   ]
  },
  {
   "cell_type": "code",
   "execution_count": 44,
   "metadata": {},
   "outputs": [
    {
     "data": {
      "text/plain": [
       "<AxesSubplot:>"
      ]
     },
     "execution_count": 44,
     "metadata": {},
     "output_type": "execute_result"
    },
    {
     "data": {
      "image/png": "[encoded data removed]",
      "text/plain": [
       "<Figure size 640x480 with 1 Axes>"
      ]
     },
     "metadata": {},
     "output_type": "display_data"
    }
   ],
   "source": [
    "plt.figure()\n",
    "purchase_steps['purchase_steps'].value_counts()[:10].plot(kind='bar')"
   ]
  },
  {
   "cell_type": "code",
   "execution_count": 45,
   "metadata": {},
   "outputs": [],
   "source": [
    "installs = df2[df2.conversion_name == 'install'].reset_index()\n",
    "installs_steps = pd.DataFrame(installs.groupby('appsflyer_id').count().reset_index())\n",
    "installs_steps = installs_steps[['appsflyer_id','index']]\n",
    "installs_steps = installs_steps.rename(columns={'index' : 'install_steps'})\n",
    "installs_steps = installs_steps[installs_steps['install_steps'] < 100]"
   ]
  },
  {
   "cell_type": "code",
   "execution_count": 46,
   "metadata": {},
   "outputs": [
    {
     "name": "stdout",
     "output_type": "stream",
     "text": [
      "Od poczatku do instalacji:\n",
      "mean : 8.71127471650438\n",
      "median : 8.0\n"
     ]
    }
   ],
   "source": [
    "print('Od poczatku do instalacji:')\n",
    "print('mean :', installs_steps['install_steps'].mean())\n",
    "print('median :', installs_steps['install_steps'].median())"
   ]
  },
  {
   "cell_type": "code",
   "execution_count": 47,
   "metadata": {},
   "outputs": [
    {
     "data": {
      "text/plain": [
       "<AxesSubplot:>"
      ]
     },
     "execution_count": 47,
     "metadata": {},
     "output_type": "execute_result"
    },
    {
     "data": {
      "image/png": "[encoded data removed]",
      "text/plain": [
       "<Figure size 640x480 with 1 Axes>"
      ]
     },
     "metadata": {},
     "output_type": "display_data"
    }
   ],
   "source": [
    "plt.figure()\n",
    "installs_steps['install_steps'].value_counts()[:10].plot(kind='bar')"
   ]
  },
  {
   "cell_type": "code",
   "execution_count": 48,
   "metadata": {},
   "outputs": [],
   "source": [
    "steps = pd.merge(installs_steps, purchase_steps, how='right', on='appsflyer_id')\n",
    "steps = steps.dropna()"
   ]
  },
  {
   "cell_type": "code",
   "execution_count": 49,
   "metadata": {},
   "outputs": [],
   "source": [
    "steps['purchase_to_install'] =  steps['purchase_steps'] - steps['install_steps']"
   ]
  },
  {
   "cell_type": "code",
   "execution_count": 50,
   "metadata": {},
   "outputs": [
    {
     "name": "stdout",
     "output_type": "stream",
     "text": [
      "Od instalacji do zakupu:\n",
      "mean : 8.074396972150565\n",
      "median : 0.0\n"
     ]
    }
   ],
   "source": [
    "print('Od instalacji do zakupu:')\n",
    "print('mean :', steps['purchase_to_install'].mean())\n",
    "print('median :', steps['purchase_to_install'].median())"
   ]
  },
  {
   "cell_type": "code",
   "execution_count": 51,
   "metadata": {},
   "outputs": [
    {
     "data": {
      "text/plain": [
       "<AxesSubplot:>"
      ]
     },
     "execution_count": 51,
     "metadata": {},
     "output_type": "execute_result"
    },
    {
     "data": {
      "image/png": "[encoded data removed]",
      "text/plain": [
       "<Figure size 640x480 with 1 Axes>"
      ]
     },
     "metadata": {},
     "output_type": "display_data"
    }
   ],
   "source": [
    "plt.figure()\n",
    "steps['purchase_to_install'].value_counts()[:10].plot(kind='bar')"
   ]
  },
  {
   "cell_type": "code",
   "execution_count": 52,
   "metadata": {},
   "outputs": [
    {
     "name": "stdout",
     "output_type": "stream",
     "text": [
      "(124500, 2)\n",
      "(618969, 2)\n",
      "(53107, 4)\n"
     ]
    }
   ],
   "source": [
    "print(purchase_steps.shape)\n",
    "print(installs_steps.shape)\n",
    "print(steps.shape)"
   ]
  },
  {
   "cell_type": "code",
   "execution_count": 53,
   "metadata": {},
   "outputs": [
    {
     "name": "stdout",
     "output_type": "stream",
     "text": [
      "Od początku do zakupu (tylko kliknięcia):\n",
      "mean : 23.881249674383064\n",
      "median : 16.0\n"
     ]
    }
   ],
   "source": [
    "purchases_clicks = purchases[purchases.touchpoint_type == 'mobile_click']\n",
    "purchase_steps_clicks = pd.DataFrame(purchases_clicks.groupby('appsflyer_id').count().reset_index())\n",
    "purchase_steps_clicks = purchase_steps_clicks[['appsflyer_id','index']]\n",
    "purchase_steps_clicks = purchase_steps_clicks.rename(columns={'index' : 'purchase_steps'})\n",
    "purchase_steps_clicks = purchase_steps_clicks[purchase_steps_clicks['purchase_steps'] < 100]\n",
    "print('Od początku do zakupu (tylko kliknięcia):')\n",
    "print('mean :', purchase_steps_clicks['purchase_steps'].mean())\n",
    "print('median :', purchase_steps_clicks['purchase_steps'].median())"
   ]
  },
  {
   "cell_type": "code",
   "execution_count": 54,
   "metadata": {},
   "outputs": [
    {
     "name": "stdout",
     "output_type": "stream",
     "text": [
      "Od początku do instalacji (tylko kliknięcia):\n",
      "mean : 7.949321681951894\n",
      "median : 8.0\n"
     ]
    }
   ],
   "source": [
    "installs_clicks = installs[installs.touchpoint_type == 'mobile_click']\n",
    "install_steps_clicks = pd.DataFrame(installs_clicks.groupby('appsflyer_id').count().reset_index())\n",
    "install_steps_clicks = install_steps_clicks[['appsflyer_id','index']]\n",
    "install_steps_clicks = install_steps_clicks.rename(columns={'index' : 'install_steps'})\n",
    "install_steps_clicks = install_steps_clicks[install_steps_clicks['install_steps'] < 100]\n",
    "print('Od początku do instalacji (tylko kliknięcia):')\n",
    "print('mean :', install_steps_clicks['install_steps'].mean())\n",
    "print('median :', install_steps_clicks['install_steps'].median())"
   ]
  },
  {
   "cell_type": "code",
   "execution_count": 55,
   "metadata": {},
   "outputs": [
    {
     "name": "stdout",
     "output_type": "stream",
     "text": [
      "Od instalacji do zakupu (tylko kliknięcia):\n",
      "mean : 8.08101577565577\n",
      "median : 0.0\n"
     ]
    }
   ],
   "source": [
    "steps_clicks = pd.merge(install_steps_clicks, purchase_steps_clicks, how='right', on='appsflyer_id')\n",
    "steps_clicks = steps_clicks.dropna()\n",
    "steps_clicks['purchase_to_install'] =  steps_clicks['purchase_steps'] - steps_clicks['install_steps']\n",
    "print('Od instalacji do zakupu (tylko kliknięcia):')\n",
    "print('mean :', steps_clicks['purchase_to_install'].mean())\n",
    "print('median :', steps_clicks['purchase_to_install'].median())"
   ]
  },
  {
   "cell_type": "code",
   "execution_count": 56,
   "metadata": {},
   "outputs": [
    {
     "name": "stdout",
     "output_type": "stream",
     "text": [
      "(115166, 2)\n",
      "(577900, 2)\n",
      "(43041, 4)\n"
     ]
    }
   ],
   "source": [
    "print(purchase_steps_clicks.shape)\n",
    "print(install_steps_clicks.shape)\n",
    "print(steps_clicks.shape)"
   ]
  },
  {
   "cell_type": "markdown",
   "metadata": {},
   "source": [
    "Naturalnie najdłużej trwa ścieżka od początku do zakupu, średnio 24 kontakty, natomiast od początku do instalacji średnio 8 kontaktów. To tyle samo ile średnio kontaktów użytkownicy robią od instalacji do zakupu. \n",
    "\n",
    "Mimo, iż może wskazywać to na długi proces aktywacji (średnio 8 kontaktów między instalacja, a zakupem) to większość użytkowników robi zakup zaraz po instalacji (brak interakcji pomiędzy)."
   ]
  }
 ],
 "metadata": {
  "kernelspec": {
   "display_name": "Python 3 (ipykernel)",
   "language": "python",
   "name": "python3"
  },
  "language_info": {
   "codemirror_mode": {
    "name": "ipython",
    "version": 3
   },
   "file_extension": ".py",
   "mimetype": "text/x-python",
   "name": "python",
   "nbconvert_exporter": "python",
   "pygments_lexer": "ipython3",
   "version": "3.9.13"
  },
  "vscode": {
   "interpreter": {
    "hash": "7e261a297acc49cda89d92316fc914dd55178d8bcb6d852d4c02442e1d07e177"
   }
  }
 },
 "nbformat": 4,
 "nbformat_minor": 2
}
